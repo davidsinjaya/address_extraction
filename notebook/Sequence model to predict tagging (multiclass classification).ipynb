{
 "cells": [
  {
   "cell_type": "code",
   "execution_count": 1,
   "metadata": {},
   "outputs": [],
   "source": [
    "import pandas as pd\n",
    "\n",
    "import matplotlib.pyplot as plt\n",
    "import numpy as np\n",
    "import pandas as pd\n",
    "import seaborn as sns\n",
    "import sys\n",
    "import tensorflow as tf\n",
    "import keras\n",
    "\n",
    "from sklearn.metrics import accuracy_score\n",
    "from sklearn.model_selection import train_test_split\n",
    "\n",
    "sys.path.append('..')\n",
    "\n",
    "from src.data import raw_to_tokens, tokens_to_tagged, tagged_to_tokens, tagged_to_poi_street, tagged_tokens_to_onehot, get_predicted_tokens\n",
    "from src import CustomTokenizer"
   ]
  },
  {
   "cell_type": "markdown",
   "metadata": {},
   "source": [
    "# Import Data"
   ]
  },
  {
   "cell_type": "code",
   "execution_count": 2,
   "metadata": {},
   "outputs": [],
   "source": [
    "df = pd.read_csv('../data/train.csv').set_index('id')\n",
    "df['poi'], df['street'] = zip(*df['POI/street'].str.split('/'))\n",
    "df['raw_tokens'] = df['raw_address'].apply(raw_to_tokens)\n",
    "df['poi_tokens'] = df['poi'].apply(raw_to_tokens)\n",
    "df['street_tokens'] = df['street'].apply(raw_to_tokens)\n",
    "df['tagged_tokens'] = df.apply(lambda r: tokens_to_tagged(r.raw_tokens, r.poi_tokens, r.street_tokens), axis=1)\n"
   ]
  },
  {
   "cell_type": "code",
   "execution_count": 3,
   "metadata": {},
   "outputs": [],
   "source": [
    "test = pd.read_csv('../data/test.csv').set_index('id')"
   ]
  },
  {
   "cell_type": "code",
   "execution_count": 4,
   "metadata": {
    "scrolled": true
   },
   "outputs": [
    {
     "data": {
      "text/html": [
       "<div>\n",
       "<style scoped>\n",
       "    .dataframe tbody tr th:only-of-type {\n",
       "        vertical-align: middle;\n",
       "    }\n",
       "\n",
       "    .dataframe tbody tr th {\n",
       "        vertical-align: top;\n",
       "    }\n",
       "\n",
       "    .dataframe thead th {\n",
       "        text-align: right;\n",
       "    }\n",
       "</style>\n",
       "<table border=\"1\" class=\"dataframe\">\n",
       "  <thead>\n",
       "    <tr style=\"text-align: right;\">\n",
       "      <th></th>\n",
       "      <th>raw_address</th>\n",
       "      <th>POI/street</th>\n",
       "      <th>poi</th>\n",
       "      <th>street</th>\n",
       "      <th>raw_tokens</th>\n",
       "      <th>poi_tokens</th>\n",
       "      <th>street_tokens</th>\n",
       "      <th>tagged_tokens</th>\n",
       "    </tr>\n",
       "    <tr>\n",
       "      <th>id</th>\n",
       "      <th></th>\n",
       "      <th></th>\n",
       "      <th></th>\n",
       "      <th></th>\n",
       "      <th></th>\n",
       "      <th></th>\n",
       "      <th></th>\n",
       "      <th></th>\n",
       "    </tr>\n",
       "  </thead>\n",
       "  <tbody>\n",
       "    <tr>\n",
       "      <th>0</th>\n",
       "      <td>jl kapuk timur delta sili iii lippo cika 11 a ...</td>\n",
       "      <td>/jl kapuk timur delta sili iii lippo cika</td>\n",
       "      <td></td>\n",
       "      <td>jl kapuk timur delta sili iii lippo cika</td>\n",
       "      <td>[jl, kapuk, timur, delta, sili, iii, lippo, ci...</td>\n",
       "      <td>[]</td>\n",
       "      <td>[jl, kapuk, timur, delta, sili, iii, lippo, cika]</td>\n",
       "      <td>[(jl, STREET), (kapuk, STREET), (timur, STREET...</td>\n",
       "    </tr>\n",
       "    <tr>\n",
       "      <th>1</th>\n",
       "      <td>aye, jati sampurna</td>\n",
       "      <td>/</td>\n",
       "      <td></td>\n",
       "      <td></td>\n",
       "      <td>[aye,, jati, sampurna]</td>\n",
       "      <td>[]</td>\n",
       "      <td>[]</td>\n",
       "      <td>[(aye,, OTHER), (jati, OTHER), (sampurna, OTHER)]</td>\n",
       "    </tr>\n",
       "    <tr>\n",
       "      <th>2</th>\n",
       "      <td>setu siung 119 rt 5 1 13880 cipayung</td>\n",
       "      <td>/siung</td>\n",
       "      <td></td>\n",
       "      <td>siung</td>\n",
       "      <td>[setu, siung, 119, rt, 5, 1, 13880, cipayung]</td>\n",
       "      <td>[]</td>\n",
       "      <td>[siung]</td>\n",
       "      <td>[(setu, OTHER), (siung, STREET), (119, OTHER),...</td>\n",
       "    </tr>\n",
       "    <tr>\n",
       "      <th>3</th>\n",
       "      <td>toko dita, kertosono</td>\n",
       "      <td>toko dita/</td>\n",
       "      <td>toko dita</td>\n",
       "      <td></td>\n",
       "      <td>[toko, dita,, kertosono]</td>\n",
       "      <td>[toko, dita]</td>\n",
       "      <td>[]</td>\n",
       "      <td>[(toko, POI), (dita,, OTHER), (kertosono, OTHER)]</td>\n",
       "    </tr>\n",
       "    <tr>\n",
       "      <th>4</th>\n",
       "      <td>jl. orde baru</td>\n",
       "      <td>/jl. orde baru</td>\n",
       "      <td></td>\n",
       "      <td>jl. orde baru</td>\n",
       "      <td>[jl., orde, baru]</td>\n",
       "      <td>[]</td>\n",
       "      <td>[jl., orde, baru]</td>\n",
       "      <td>[(jl., STREET), (orde, STREET), (baru, STREET)]</td>\n",
       "    </tr>\n",
       "  </tbody>\n",
       "</table>\n",
       "</div>"
      ],
      "text/plain": [
       "                                          raw_address  \\\n",
       "id                                                      \n",
       "0   jl kapuk timur delta sili iii lippo cika 11 a ...   \n",
       "1                                  aye, jati sampurna   \n",
       "2                setu siung 119 rt 5 1 13880 cipayung   \n",
       "3                                toko dita, kertosono   \n",
       "4                                       jl. orde baru   \n",
       "\n",
       "                                   POI/street        poi  \\\n",
       "id                                                         \n",
       "0   /jl kapuk timur delta sili iii lippo cika              \n",
       "1                                           /              \n",
       "2                                      /siung              \n",
       "3                                  toko dita/  toko dita   \n",
       "4                              /jl. orde baru              \n",
       "\n",
       "                                      street  \\\n",
       "id                                             \n",
       "0   jl kapuk timur delta sili iii lippo cika   \n",
       "1                                              \n",
       "2                                      siung   \n",
       "3                                              \n",
       "4                              jl. orde baru   \n",
       "\n",
       "                                           raw_tokens    poi_tokens  \\\n",
       "id                                                                    \n",
       "0   [jl, kapuk, timur, delta, sili, iii, lippo, ci...            []   \n",
       "1                              [aye,, jati, sampurna]            []   \n",
       "2       [setu, siung, 119, rt, 5, 1, 13880, cipayung]            []   \n",
       "3                            [toko, dita,, kertosono]  [toko, dita]   \n",
       "4                                   [jl., orde, baru]            []   \n",
       "\n",
       "                                        street_tokens  \\\n",
       "id                                                      \n",
       "0   [jl, kapuk, timur, delta, sili, iii, lippo, cika]   \n",
       "1                                                  []   \n",
       "2                                             [siung]   \n",
       "3                                                  []   \n",
       "4                                   [jl., orde, baru]   \n",
       "\n",
       "                                        tagged_tokens  \n",
       "id                                                     \n",
       "0   [(jl, STREET), (kapuk, STREET), (timur, STREET...  \n",
       "1   [(aye,, OTHER), (jati, OTHER), (sampurna, OTHER)]  \n",
       "2   [(setu, OTHER), (siung, STREET), (119, OTHER),...  \n",
       "3   [(toko, POI), (dita,, OTHER), (kertosono, OTHER)]  \n",
       "4     [(jl., STREET), (orde, STREET), (baru, STREET)]  "
      ]
     },
     "execution_count": 4,
     "metadata": {},
     "output_type": "execute_result"
    }
   ],
   "source": [
    "df.head()"
   ]
  },
  {
   "cell_type": "code",
   "execution_count": 5,
   "metadata": {},
   "outputs": [],
   "source": [
    "df['tokens_onehot'] = df['tagged_tokens'].apply(tagged_tokens_to_onehot)"
   ]
  },
  {
   "cell_type": "markdown",
   "metadata": {},
   "source": [
    "# Tokenize data"
   ]
  },
  {
   "cell_type": "code",
   "execution_count": 6,
   "metadata": {},
   "outputs": [],
   "source": [
    "sample=df #define sample size\n",
    "train, valid = train_test_split(sample, test_size=0.1, random_state=42)"
   ]
  },
  {
   "cell_type": "code",
   "execution_count": 7,
   "metadata": {},
   "outputs": [
    {
     "data": {
      "text/plain": [
       "350000"
      ]
     },
     "execution_count": 7,
     "metadata": {},
     "output_type": "execute_result"
    }
   ],
   "source": [
    "texts = sample.raw_address.tolist() + test.raw_address.tolist()\n",
    "len(texts)"
   ]
  },
  {
   "cell_type": "code",
   "execution_count": 8,
   "metadata": {},
   "outputs": [],
   "source": [
    "tokenizer = CustomTokenizer.CustomTokenizer(train_texts = texts)\n",
    "tokenizer.train_tokenize()"
   ]
  },
  {
   "cell_type": "code",
   "execution_count": 9,
   "metadata": {},
   "outputs": [
    {
     "data": {
      "text/plain": [
       "88307"
      ]
     },
     "execution_count": 9,
     "metadata": {},
     "output_type": "execute_result"
    }
   ],
   "source": [
    "len(tokenizer.tokenizer.word_index.items())"
   ]
  },
  {
   "cell_type": "code",
   "execution_count": 10,
   "metadata": {},
   "outputs": [],
   "source": [
    "reverse_word_map = dict(map(reversed, tokenizer.tokenizer.word_index.items()))"
   ]
  },
  {
   "cell_type": "code",
   "execution_count": 11,
   "metadata": {
    "scrolled": true
   },
   "outputs": [
    {
     "data": {
      "text/plain": [
       "(270000, 30)"
      ]
     },
     "execution_count": 11,
     "metadata": {},
     "output_type": "execute_result"
    }
   ],
   "source": [
    "tokenized_X_train = tokenizer.vectorize_input(train['raw_address'])\n",
    "tokenized_X_train.shape"
   ]
  },
  {
   "cell_type": "markdown",
   "metadata": {},
   "source": [
    "# Build and train model"
   ]
  },
  {
   "cell_type": "code",
   "execution_count": 12,
   "metadata": {},
   "outputs": [],
   "source": [
    "from keras.models import Model\n",
    "from keras.layers import Input, Embedding, LSTM, Dense, Bidirectional, Dropout"
   ]
  },
  {
   "cell_type": "code",
   "execution_count": 13,
   "metadata": {},
   "outputs": [],
   "source": [
    "num_tokens = len(tokenizer.tokenizer.word_index)+1\n",
    "latent_dim = 128\n",
    "batch_size = 256\n",
    "epochs = 10"
   ]
  },
  {
   "cell_type": "code",
   "execution_count": 14,
   "metadata": {},
   "outputs": [],
   "source": [
    "input_data = tokenized_X_train\n",
    "output_data = CustomTokenizer.pad_sequence_tokens(train.tokens_onehot)"
   ]
  },
  {
   "cell_type": "code",
   "execution_count": 15,
   "metadata": {
    "scrolled": false
   },
   "outputs": [
    {
     "name": "stdout",
     "output_type": "stream",
     "text": [
      "Epoch 1/10\n",
      "844/844 [==============================] - 273s 312ms/step - loss: 0.1551 - val_loss: 0.1045\n",
      "Epoch 2/10\n",
      "844/844 [==============================] - 261s 310ms/step - loss: 0.1018 - val_loss: 0.0996\n",
      "Epoch 3/10\n",
      "844/844 [==============================] - 249s 295ms/step - loss: 0.0958 - val_loss: 0.0974\n",
      "Epoch 4/10\n",
      "844/844 [==============================] - 246s 291ms/step - loss: 0.0920 - val_loss: 0.0960\n",
      "Epoch 5/10\n",
      "844/844 [==============================] - 188s 223ms/step - loss: 0.0885 - val_loss: 0.0949\n",
      "Epoch 6/10\n",
      "844/844 [==============================] - 131s 156ms/step - loss: 0.0855 - val_loss: 0.0944\n",
      "Epoch 7/10\n",
      "844/844 [==============================] - 132s 156ms/step - loss: 0.0835 - val_loss: 0.0946\n",
      "Epoch 8/10\n",
      "844/844 [==============================] - 139s 164ms/step - loss: 0.0807 - val_loss: 0.0941\n",
      "Epoch 9/10\n",
      "844/844 [==============================] - 138s 164ms/step - loss: 0.0786 - val_loss: 0.0952\n",
      "Epoch 10/10\n",
      "844/844 [==============================] - 136s 161ms/step - loss: 0.0768 - val_loss: 0.0970\n"
     ]
    }
   ],
   "source": [
    "input_layer = Input(shape=(None,),name='input')\n",
    "x = Embedding(num_tokens, latent_dim,name='embedding')(input_layer)\n",
    "lstm_layer = Bidirectional(LSTM(latent_dim, return_sequences=True, return_state=True), name='bidirectional_lstm')\n",
    "output,_,_,_,_ =lstm_layer(x)\n",
    "dropout_layer = Dropout(0.5, name='dropout')\n",
    "output = dropout_layer(output)\n",
    "dense_layer = Dense(3, activation='softmax', name='dense')\n",
    "output = dense_layer(output)\n",
    "\n",
    "model = Model(input_layer, output)\n",
    "\n",
    "model.compile(optimizer='rmsprop', loss='categorical_crossentropy')\n",
    "history=model.fit(input_data, output_data,\n",
    "          batch_size=batch_size,\n",
    "          epochs=epochs,\n",
    "          validation_split=0.2)"
   ]
  },
  {
   "cell_type": "code",
   "execution_count": 26,
   "metadata": {},
   "outputs": [
    {
     "name": "stderr",
     "output_type": "stream",
     "text": [
      "WARNING:absl:Found untraced functions such as lstm_cell_1_layer_call_and_return_conditional_losses, lstm_cell_1_layer_call_fn, lstm_cell_2_layer_call_and_return_conditional_losses, lstm_cell_2_layer_call_fn, lstm_cell_1_layer_call_fn while saving (showing 5 of 10). These functions will not be directly callable after loading.\n",
      "WARNING:absl:Found untraced functions such as lstm_cell_1_layer_call_and_return_conditional_losses, lstm_cell_1_layer_call_fn, lstm_cell_2_layer_call_and_return_conditional_losses, lstm_cell_2_layer_call_fn, lstm_cell_1_layer_call_fn while saving (showing 5 of 10). These functions will not be directly callable after loading.\n"
     ]
    },
    {
     "name": "stdout",
     "output_type": "stream",
     "text": [
      "INFO:tensorflow:Assets written to: ../model/seq_to_seq_tagging\\assets\n"
     ]
    },
    {
     "name": "stderr",
     "output_type": "stream",
     "text": [
      "INFO:tensorflow:Assets written to: ../model/seq_to_seq_tagging\\assets\n"
     ]
    }
   ],
   "source": [
    "model.save('../model/seq_to_seq_tagging')"
   ]
  },
  {
   "cell_type": "code",
   "execution_count": 17,
   "metadata": {
    "scrolled": true
   },
   "outputs": [
    {
     "name": "stdout",
     "output_type": "stream",
     "text": [
      "Model: \"model\"\n",
      "_________________________________________________________________\n",
      "Layer (type)                 Output Shape              Param #   \n",
      "=================================================================\n",
      "input (InputLayer)           [(None, None)]            0         \n",
      "_________________________________________________________________\n",
      "embedding (Embedding)        (None, None, 128)         11303424  \n",
      "_________________________________________________________________\n",
      "bidirectional_lstm (Bidirect [(None, None, 256), (None 263168    \n",
      "_________________________________________________________________\n",
      "dropout (Dropout)            (None, None, 256)         0         \n",
      "_________________________________________________________________\n",
      "dense (Dense)                (None, None, 3)           771       \n",
      "=================================================================\n",
      "Total params: 11,567,363\n",
      "Trainable params: 11,567,363\n",
      "Non-trainable params: 0\n",
      "_________________________________________________________________\n"
     ]
    }
   ],
   "source": [
    "model.summary()"
   ]
  },
  {
   "cell_type": "code",
   "execution_count": 18,
   "metadata": {},
   "outputs": [
    {
     "data": {
      "image/png": "[encoded data removed]",
      "text/plain": [
       "<Figure size 432x288 with 1 Axes>"
      ]
     },
     "metadata": {
      "needs_background": "light"
     },
     "output_type": "display_data"
    }
   ],
   "source": [
    "# summarize history for loss\n",
    "plt.plot(history.history['loss'])\n",
    "plt.plot(history.history['val_loss'])\n",
    "plt.title('model loss')\n",
    "plt.ylabel('loss')\n",
    "plt.xlabel('epoch')\n",
    "plt.legend(['train', 'test'], loc='upper left')\n",
    "plt.show()"
   ]
  },
  {
   "cell_type": "markdown",
   "metadata": {},
   "source": [
    "# Inference on Validation set"
   ]
  },
  {
   "cell_type": "code",
   "execution_count": 19,
   "metadata": {},
   "outputs": [],
   "source": [
    "tokenized_X_valid = tokenizer.vectorize_input(valid['raw_address'])"
   ]
  },
  {
   "cell_type": "code",
   "execution_count": 20,
   "metadata": {},
   "outputs": [],
   "source": [
    "def predict(tokenized_list, df):\n",
    "    softmax = model.predict(tokenized_list)\n",
    "    pred = np.argmax(softmax, axis=-1)\n",
    "    return pred.tolist()"
   ]
  },
  {
   "cell_type": "code",
   "execution_count": 21,
   "metadata": {
    "scrolled": true
   },
   "outputs": [
    {
     "name": "stderr",
     "output_type": "stream",
     "text": [
      "D:\\Users\\Admin\\anaconda3\\envs\\shopee2021\\lib\\site-packages\\ipykernel_launcher.py:1: SettingWithCopyWarning: \n",
      "A value is trying to be set on a copy of a slice from a DataFrame.\n",
      "Try using .loc[row_indexer,col_indexer] = value instead\n",
      "\n",
      "See the caveats in the documentation: https://pandas.pydata.org/pandas-docs/stable/user_guide/indexing.html#returning-a-view-versus-a-copy\n",
      "  \"\"\"Entry point for launching an IPython kernel.\n",
      "D:\\Users\\Admin\\anaconda3\\envs\\shopee2021\\lib\\site-packages\\ipykernel_launcher.py:2: SettingWithCopyWarning: \n",
      "A value is trying to be set on a copy of a slice from a DataFrame.\n",
      "Try using .loc[row_indexer,col_indexer] = value instead\n",
      "\n",
      "See the caveats in the documentation: https://pandas.pydata.org/pandas-docs/stable/user_guide/indexing.html#returning-a-view-versus-a-copy\n",
      "  \n"
     ]
    }
   ],
   "source": [
    "valid['pred'] = predict(tokenized_X_valid,valid)\n",
    "valid['reverse_raw_tokens'] = tokenizer.reverse_tokenized_to_array_text(tokenized_X_valid)"
   ]
  },
  {
   "cell_type": "code",
   "execution_count": 22,
   "metadata": {},
   "outputs": [
    {
     "name": "stderr",
     "output_type": "stream",
     "text": [
      "D:\\Users\\Admin\\anaconda3\\envs\\shopee2021\\lib\\site-packages\\ipykernel_launcher.py:1: SettingWithCopyWarning: \n",
      "A value is trying to be set on a copy of a slice from a DataFrame.\n",
      "Try using .loc[row_indexer,col_indexer] = value instead\n",
      "\n",
      "See the caveats in the documentation: https://pandas.pydata.org/pandas-docs/stable/user_guide/indexing.html#returning-a-view-versus-a-copy\n",
      "  \"\"\"Entry point for launching an IPython kernel.\n"
     ]
    }
   ],
   "source": [
    "valid['pred_POI/street'] = valid.apply(lambda x: get_predicted_tokens(x['pred'], x['reverse_raw_tokens']), axis=1)"
   ]
  },
  {
   "cell_type": "code",
   "execution_count": 23,
   "metadata": {
    "scrolled": true
   },
   "outputs": [
    {
     "data": {
      "text/html": [
       "<div>\n",
       "<style scoped>\n",
       "    .dataframe tbody tr th:only-of-type {\n",
       "        vertical-align: middle;\n",
       "    }\n",
       "\n",
       "    .dataframe tbody tr th {\n",
       "        vertical-align: top;\n",
       "    }\n",
       "\n",
       "    .dataframe thead th {\n",
       "        text-align: right;\n",
       "    }\n",
       "</style>\n",
       "<table border=\"1\" class=\"dataframe\">\n",
       "  <thead>\n",
       "    <tr style=\"text-align: right;\">\n",
       "      <th></th>\n",
       "      <th>POI/street</th>\n",
       "      <th>pred_POI/street</th>\n",
       "    </tr>\n",
       "    <tr>\n",
       "      <th>id</th>\n",
       "      <th></th>\n",
       "      <th></th>\n",
       "    </tr>\n",
       "  </thead>\n",
       "  <tbody>\n",
       "    <tr>\n",
       "      <th>4941</th>\n",
       "      <td>hadi/raya kre</td>\n",
       "      <td>/</td>\n",
       "    </tr>\n",
       "    <tr>\n",
       "      <th>51775</th>\n",
       "      <td>pemberdayaan kesejahteraan keluarga sudajaya h...</td>\n",
       "      <td>pemberdayaan kesejahteraan/</td>\n",
       "    </tr>\n",
       "    <tr>\n",
       "      <th>115253</th>\n",
       "      <td>/merak 11</td>\n",
       "      <td>/merak</td>\n",
       "    </tr>\n",
       "    <tr>\n",
       "      <th>299321</th>\n",
       "      <td>bung karno/jl asia afrika</td>\n",
       "      <td>/jl asia afrika</td>\n",
       "    </tr>\n",
       "    <tr>\n",
       "      <th>173570</th>\n",
       "      <td>/kar anyar d</td>\n",
       "      <td>/kar anyar d</td>\n",
       "    </tr>\n",
       "    <tr>\n",
       "      <th>...</th>\n",
       "      <td>...</td>\n",
       "      <td>...</td>\n",
       "    </tr>\n",
       "    <tr>\n",
       "      <th>199500</th>\n",
       "      <td>/rengas</td>\n",
       "      <td>/</td>\n",
       "    </tr>\n",
       "    <tr>\n",
       "      <th>244038</th>\n",
       "      <td>dinas pengelola keuangan dan aset daerah/merd</td>\n",
       "      <td>dinas pengelola keuangan dan aset/</td>\n",
       "    </tr>\n",
       "    <tr>\n",
       "      <th>79446</th>\n",
       "      <td>/par</td>\n",
       "      <td>/</td>\n",
       "    </tr>\n",
       "    <tr>\n",
       "      <th>276390</th>\n",
       "      <td>toko textile ibu kota/jati raya</td>\n",
       "      <td>toko textile ibu/jati raya</td>\n",
       "    </tr>\n",
       "    <tr>\n",
       "      <th>144864</th>\n",
       "      <td>/raya war</td>\n",
       "      <td>/raya war</td>\n",
       "    </tr>\n",
       "  </tbody>\n",
       "</table>\n",
       "<p>30000 rows × 2 columns</p>\n",
       "</div>"
      ],
      "text/plain": [
       "                                               POI/street  \\\n",
       "id                                                          \n",
       "4941                                        hadi/raya kre   \n",
       "51775   pemberdayaan kesejahteraan keluarga sudajaya h...   \n",
       "115253                                          /merak 11   \n",
       "299321                          bung karno/jl asia afrika   \n",
       "173570                                       /kar anyar d   \n",
       "...                                                   ...   \n",
       "199500                                            /rengas   \n",
       "244038      dinas pengelola keuangan dan aset daerah/merd   \n",
       "79446                                                /par   \n",
       "276390                    toko textile ibu kota/jati raya   \n",
       "144864                                          /raya war   \n",
       "\n",
       "                           pred_POI/street  \n",
       "id                                          \n",
       "4941                                     /  \n",
       "51775          pemberdayaan kesejahteraan/  \n",
       "115253                              /merak  \n",
       "299321                     /jl asia afrika  \n",
       "173570                        /kar anyar d  \n",
       "...                                    ...  \n",
       "199500                                   /  \n",
       "244038  dinas pengelola keuangan dan aset/  \n",
       "79446                                    /  \n",
       "276390          toko textile ibu/jati raya  \n",
       "144864                           /raya war  \n",
       "\n",
       "[30000 rows x 2 columns]"
      ]
     },
     "execution_count": 23,
     "metadata": {},
     "output_type": "execute_result"
    }
   ],
   "source": [
    "valid[['POI/street','pred_POI/street']]"
   ]
  },
  {
   "cell_type": "code",
   "execution_count": 24,
   "metadata": {
    "scrolled": true
   },
   "outputs": [
    {
     "data": {
      "text/plain": [
       "(30000, 12)"
      ]
     },
     "execution_count": 24,
     "metadata": {},
     "output_type": "execute_result"
    }
   ],
   "source": [
    "valid.shape"
   ]
  },
  {
   "cell_type": "code",
   "execution_count": 25,
   "metadata": {},
   "outputs": [
    {
     "data": {
      "text/plain": [
       "0.2898"
      ]
     },
     "execution_count": 25,
     "metadata": {},
     "output_type": "execute_result"
    }
   ],
   "source": [
    "accuracy_score(y_true=valid['POI/street'], y_pred=valid['pred_POI/street'])"
   ]
  },
  {
   "cell_type": "markdown",
   "metadata": {},
   "source": [
    "# Inference on Test data"
   ]
  },
  {
   "cell_type": "code",
   "execution_count": 27,
   "metadata": {},
   "outputs": [],
   "source": [
    "tokenized_X_test = tokenizer.vectorize_input(test['raw_address'])"
   ]
  },
  {
   "cell_type": "code",
   "execution_count": 28,
   "metadata": {
    "scrolled": true
   },
   "outputs": [],
   "source": [
    "test['pred'] = predict(tokenized_X_test, test)\n",
    "test['reverse_raw_tokens'] = tokenizer.reverse_tokenized_to_array_text(tokenized_X_test)"
   ]
  },
  {
   "cell_type": "code",
   "execution_count": 29,
   "metadata": {},
   "outputs": [],
   "source": [
    "test['POI/street'] = test.apply(lambda x: get_predicted_tokens(x['pred'], x['reverse_raw_tokens']), axis=1)"
   ]
  },
  {
   "cell_type": "code",
   "execution_count": 30,
   "metadata": {
    "scrolled": true
   },
   "outputs": [
    {
     "data": {
      "text/html": [
       "<div>\n",
       "<style scoped>\n",
       "    .dataframe tbody tr th:only-of-type {\n",
       "        vertical-align: middle;\n",
       "    }\n",
       "\n",
       "    .dataframe tbody tr th {\n",
       "        vertical-align: top;\n",
       "    }\n",
       "\n",
       "    .dataframe thead th {\n",
       "        text-align: right;\n",
       "    }\n",
       "</style>\n",
       "<table border=\"1\" class=\"dataframe\">\n",
       "  <thead>\n",
       "    <tr style=\"text-align: right;\">\n",
       "      <th></th>\n",
       "      <th>raw_address</th>\n",
       "      <th>POI/street</th>\n",
       "    </tr>\n",
       "    <tr>\n",
       "      <th>id</th>\n",
       "      <th></th>\n",
       "      <th></th>\n",
       "    </tr>\n",
       "  </thead>\n",
       "  <tbody>\n",
       "    <tr>\n",
       "      <th>0</th>\n",
       "      <td>s. par 53 sidanegara 4 cilacap tengah</td>\n",
       "      <td>/s par</td>\n",
       "    </tr>\n",
       "    <tr>\n",
       "      <th>1</th>\n",
       "      <td>angg per, baloi indah kel. lubuk baja</td>\n",
       "      <td>/angg</td>\n",
       "    </tr>\n",
       "    <tr>\n",
       "      <th>2</th>\n",
       "      <td>asma laun, mand imog,</td>\n",
       "      <td>asma/imog</td>\n",
       "    </tr>\n",
       "    <tr>\n",
       "      <th>3</th>\n",
       "      <td>ud agung rej, raya nga sri wedari karanganyar</td>\n",
       "      <td>ud agung/raya nga</td>\n",
       "    </tr>\n",
       "    <tr>\n",
       "      <th>4</th>\n",
       "      <td>cut mutia, 35 baiturrahman</td>\n",
       "      <td>/cut mutia</td>\n",
       "    </tr>\n",
       "    <tr>\n",
       "      <th>...</th>\n",
       "      <td>...</td>\n",
       "      <td>...</td>\n",
       "    </tr>\n",
       "    <tr>\n",
       "      <th>49995</th>\n",
       "      <td>toko mbak farid semboro semboro</td>\n",
       "      <td>toko mbak farid/</td>\n",
       "    </tr>\n",
       "    <tr>\n",
       "      <th>49996</th>\n",
       "      <td>vie - tk. ridho kids, vete 3 cari, 16720 ciawi</td>\n",
       "      <td>tk ridho kids/</td>\n",
       "    </tr>\n",
       "    <tr>\n",
       "      <th>49997</th>\n",
       "      <td>mart dan roti bakar malabar, nasio,</td>\n",
       "      <td>mart dan roti bakar/</td>\n",
       "    </tr>\n",
       "    <tr>\n",
       "      <th>49998</th>\n",
       "      <td>graha indah pamulang jl. mujair raya bambu apu...</td>\n",
       "      <td>graha indah/jl mujair raya</td>\n",
       "    </tr>\n",
       "    <tr>\n",
       "      <th>49999</th>\n",
       "      <td>adi,</td>\n",
       "      <td>/</td>\n",
       "    </tr>\n",
       "  </tbody>\n",
       "</table>\n",
       "<p>50000 rows × 2 columns</p>\n",
       "</div>"
      ],
      "text/plain": [
       "                                             raw_address  \\\n",
       "id                                                         \n",
       "0                  s. par 53 sidanegara 4 cilacap tengah   \n",
       "1                  angg per, baloi indah kel. lubuk baja   \n",
       "2                                  asma laun, mand imog,   \n",
       "3          ud agung rej, raya nga sri wedari karanganyar   \n",
       "4                             cut mutia, 35 baiturrahman   \n",
       "...                                                  ...   \n",
       "49995                    toko mbak farid semboro semboro   \n",
       "49996     vie - tk. ridho kids, vete 3 cari, 16720 ciawi   \n",
       "49997                mart dan roti bakar malabar, nasio,   \n",
       "49998  graha indah pamulang jl. mujair raya bambu apu...   \n",
       "49999                                               adi,   \n",
       "\n",
       "                       POI/street  \n",
       "id                                 \n",
       "0                          /s par  \n",
       "1                           /angg  \n",
       "2                       asma/imog  \n",
       "3               ud agung/raya nga  \n",
       "4                      /cut mutia  \n",
       "...                           ...  \n",
       "49995            toko mbak farid/  \n",
       "49996              tk ridho kids/  \n",
       "49997        mart dan roti bakar/  \n",
       "49998  graha indah/jl mujair raya  \n",
       "49999                           /  \n",
       "\n",
       "[50000 rows x 2 columns]"
      ]
     },
     "execution_count": 30,
     "metadata": {},
     "output_type": "execute_result"
    }
   ],
   "source": [
    "test[['raw_address','POI/street']]"
   ]
  },
  {
   "cell_type": "code",
   "execution_count": 31,
   "metadata": {},
   "outputs": [],
   "source": [
    "# Save prediction\n",
    "test['POI/street'].to_csv('../data/pred.csv')"
   ]
  }
 ],
 "metadata": {
  "kernelspec": {
   "display_name": "Python [conda env:shopee2021]",
   "language": "python",
   "name": "conda-env-shopee2021-py"
  },
  "language_info": {
   "codemirror_mode": {
    "name": "ipython",
    "version": 3
   },
   "file_extension": ".py",
   "mimetype": "text/x-python",
   "name": "python",
   "nbconvert_exporter": "python",
   "pygments_lexer": "ipython3",
   "version": "3.6.12"
  }
 },
 "nbformat": 4,
 "nbformat_minor": 4
}
