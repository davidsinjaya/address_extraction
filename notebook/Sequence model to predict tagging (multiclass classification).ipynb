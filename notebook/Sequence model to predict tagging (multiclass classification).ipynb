{
 "cells": [
  {
   "cell_type": "markdown",
   "metadata": {},
   "source": [
    "Author: David Sinjaya, Chew Ann Siong\n",
    "\n",
    "**Summary**:\n",
    "\n",
    "This notebook uses a sequential model (RNN) to predict the tagging of each token in raw address to either the following class: POI, STREET, OTHERS. Eventually the script will write output as `<predicted POI>/<predicted street>` as the competition's demanded output format.\n",
    "\n",
    "**Outline**:\n",
    "1. Import data\n",
    "2. Preprocess data\n",
    "3. Split train and validation data\n",
    "4. Tokenize data\n",
    "5. Build and train model\n",
    "6. Inference on Validation set\n",
    "7. Inference on test set"
   ]
  },
  {
   "cell_type": "code",
   "execution_count": 1,
   "metadata": {},
   "outputs": [],
   "source": [
    "import pandas as pd\n",
    "import matplotlib.pyplot as plt\n",
    "import numpy as np\n",
    "import pandas as pd\n",
    "import seaborn as sns\n",
    "import sys\n",
    "import tensorflow as tf\n",
    "import keras\n",
    "\n",
    "from sklearn.metrics import accuracy_score\n",
    "from sklearn.model_selection import train_test_split\n",
    "\n",
    "sys.path.append('..')\n",
    "\n",
    "from src.data import raw_to_tokens, tokens_to_tagged, tagged_to_tokens, tagged_to_poi_street, tagged_tokens_to_onehot, get_predicted_tokens\n",
    "from src import CustomTokenizer"
   ]
  },
  {
   "cell_type": "markdown",
   "metadata": {},
   "source": [
    "# Import Data"
   ]
  },
  {
   "cell_type": "code",
   "execution_count": 2,
   "metadata": {},
   "outputs": [],
   "source": [
    "df = pd.read_csv('../data/train.csv').set_index('id')"
   ]
  },
  {
   "cell_type": "markdown",
   "metadata": {},
   "source": [
    "# Preprocess data"
   ]
  },
  {
   "cell_type": "markdown",
   "metadata": {},
   "source": [
    "Transform the data into one-hot encoding of token type"
   ]
  },
  {
   "cell_type": "code",
   "execution_count": 3,
   "metadata": {},
   "outputs": [],
   "source": [
    "df['poi'], df['street'] = zip(*df['POI/street'].str.split('/'))\n",
    "df['raw_tokens'] = df['raw_address'].apply(raw_to_tokens)\n",
    "df['poi_tokens'] = df['poi'].apply(raw_to_tokens)\n",
    "df['street_tokens'] = df['street'].apply(raw_to_tokens)\n",
    "df['tagged_tokens'] = df.apply(lambda r: tokens_to_tagged(r.raw_tokens, r.poi_tokens, r.street_tokens), axis=1)"
   ]
  },
  {
   "cell_type": "code",
   "execution_count": 4,
   "metadata": {},
   "outputs": [],
   "source": [
    "test = pd.read_csv('../data/test.csv').set_index('id')"
   ]
  },
  {
   "cell_type": "code",
   "execution_count": 5,
   "metadata": {
    "scrolled": true
   },
   "outputs": [
    {
     "data": {
      "text/html": [
       "<div>\n",
       "<style scoped>\n",
       "    .dataframe tbody tr th:only-of-type {\n",
       "        vertical-align: middle;\n",
       "    }\n",
       "\n",
       "    .dataframe tbody tr th {\n",
       "        vertical-align: top;\n",
       "    }\n",
       "\n",
       "    .dataframe thead th {\n",
       "        text-align: right;\n",
       "    }\n",
       "</style>\n",
       "<table border=\"1\" class=\"dataframe\">\n",
       "  <thead>\n",
       "    <tr style=\"text-align: right;\">\n",
       "      <th></th>\n",
       "      <th>raw_address</th>\n",
       "      <th>POI/street</th>\n",
       "      <th>poi</th>\n",
       "      <th>street</th>\n",
       "      <th>raw_tokens</th>\n",
       "      <th>poi_tokens</th>\n",
       "      <th>street_tokens</th>\n",
       "      <th>tagged_tokens</th>\n",
       "    </tr>\n",
       "    <tr>\n",
       "      <th>id</th>\n",
       "      <th></th>\n",
       "      <th></th>\n",
       "      <th></th>\n",
       "      <th></th>\n",
       "      <th></th>\n",
       "      <th></th>\n",
       "      <th></th>\n",
       "      <th></th>\n",
       "    </tr>\n",
       "  </thead>\n",
       "  <tbody>\n",
       "    <tr>\n",
       "      <th>0</th>\n",
       "      <td>jl kapuk timur delta sili iii lippo cika 11 a ...</td>\n",
       "      <td>/jl kapuk timur delta sili iii lippo cika</td>\n",
       "      <td></td>\n",
       "      <td>jl kapuk timur delta sili iii lippo cika</td>\n",
       "      <td>[jl, kapuk, timur, delta, sili, iii, lippo, ci...</td>\n",
       "      <td>[]</td>\n",
       "      <td>[jl, kapuk, timur, delta, sili, iii, lippo, cika]</td>\n",
       "      <td>[(jl, STREET), (kapuk, STREET), (timur, STREET...</td>\n",
       "    </tr>\n",
       "    <tr>\n",
       "      <th>1</th>\n",
       "      <td>aye, jati sampurna</td>\n",
       "      <td>/</td>\n",
       "      <td></td>\n",
       "      <td></td>\n",
       "      <td>[aye,, jati, sampurna]</td>\n",
       "      <td>[]</td>\n",
       "      <td>[]</td>\n",
       "      <td>[(aye,, OTHER), (jati, OTHER), (sampurna, OTHER)]</td>\n",
       "    </tr>\n",
       "    <tr>\n",
       "      <th>2</th>\n",
       "      <td>setu siung 119 rt 5 1 13880 cipayung</td>\n",
       "      <td>/siung</td>\n",
       "      <td></td>\n",
       "      <td>siung</td>\n",
       "      <td>[setu, siung, 119, rt, 5, 1, 13880, cipayung]</td>\n",
       "      <td>[]</td>\n",
       "      <td>[siung]</td>\n",
       "      <td>[(setu, OTHER), (siung, STREET), (119, OTHER),...</td>\n",
       "    </tr>\n",
       "    <tr>\n",
       "      <th>3</th>\n",
       "      <td>toko dita, kertosono</td>\n",
       "      <td>toko dita/</td>\n",
       "      <td>toko dita</td>\n",
       "      <td></td>\n",
       "      <td>[toko, dita,, kertosono]</td>\n",
       "      <td>[toko, dita]</td>\n",
       "      <td>[]</td>\n",
       "      <td>[(toko, POI), (dita,, OTHER), (kertosono, OTHER)]</td>\n",
       "    </tr>\n",
       "    <tr>\n",
       "      <th>4</th>\n",
       "      <td>jl. orde baru</td>\n",
       "      <td>/jl. orde baru</td>\n",
       "      <td></td>\n",
       "      <td>jl. orde baru</td>\n",
       "      <td>[jl., orde, baru]</td>\n",
       "      <td>[]</td>\n",
       "      <td>[jl., orde, baru]</td>\n",
       "      <td>[(jl., STREET), (orde, STREET), (baru, STREET)]</td>\n",
       "    </tr>\n",
       "  </tbody>\n",
       "</table>\n",
       "</div>"
      ],
      "text/plain": [
       "                                          raw_address  \\\n",
       "id                                                      \n",
       "0   jl kapuk timur delta sili iii lippo cika 11 a ...   \n",
       "1                                  aye, jati sampurna   \n",
       "2                setu siung 119 rt 5 1 13880 cipayung   \n",
       "3                                toko dita, kertosono   \n",
       "4                                       jl. orde baru   \n",
       "\n",
       "                                   POI/street        poi  \\\n",
       "id                                                         \n",
       "0   /jl kapuk timur delta sili iii lippo cika              \n",
       "1                                           /              \n",
       "2                                      /siung              \n",
       "3                                  toko dita/  toko dita   \n",
       "4                              /jl. orde baru              \n",
       "\n",
       "                                      street  \\\n",
       "id                                             \n",
       "0   jl kapuk timur delta sili iii lippo cika   \n",
       "1                                              \n",
       "2                                      siung   \n",
       "3                                              \n",
       "4                              jl. orde baru   \n",
       "\n",
       "                                           raw_tokens    poi_tokens  \\\n",
       "id                                                                    \n",
       "0   [jl, kapuk, timur, delta, sili, iii, lippo, ci...            []   \n",
       "1                              [aye,, jati, sampurna]            []   \n",
       "2       [setu, siung, 119, rt, 5, 1, 13880, cipayung]            []   \n",
       "3                            [toko, dita,, kertosono]  [toko, dita]   \n",
       "4                                   [jl., orde, baru]            []   \n",
       "\n",
       "                                        street_tokens  \\\n",
       "id                                                      \n",
       "0   [jl, kapuk, timur, delta, sili, iii, lippo, cika]   \n",
       "1                                                  []   \n",
       "2                                             [siung]   \n",
       "3                                                  []   \n",
       "4                                   [jl., orde, baru]   \n",
       "\n",
       "                                        tagged_tokens  \n",
       "id                                                     \n",
       "0   [(jl, STREET), (kapuk, STREET), (timur, STREET...  \n",
       "1   [(aye,, OTHER), (jati, OTHER), (sampurna, OTHER)]  \n",
       "2   [(setu, OTHER), (siung, STREET), (119, OTHER),...  \n",
       "3   [(toko, POI), (dita,, OTHER), (kertosono, OTHER)]  \n",
       "4     [(jl., STREET), (orde, STREET), (baru, STREET)]  "
      ]
     },
     "execution_count": 5,
     "metadata": {},
     "output_type": "execute_result"
    }
   ],
   "source": [
    "df.head()"
   ]
  },
  {
   "cell_type": "code",
   "execution_count": 6,
   "metadata": {},
   "outputs": [],
   "source": [
    "df['tokens_onehot'] = df['tagged_tokens'].apply(tagged_tokens_to_onehot)"
   ]
  },
  {
   "cell_type": "markdown",
   "metadata": {},
   "source": [
    "# Split train and validation data"
   ]
  },
  {
   "cell_type": "code",
   "execution_count": 7,
   "metadata": {},
   "outputs": [],
   "source": [
    "train, valid = train_test_split(df, test_size=0.1, random_state=42)"
   ]
  },
  {
   "cell_type": "code",
   "execution_count": 9,
   "metadata": {},
   "outputs": [
    {
     "data": {
      "text/plain": [
       "350000"
      ]
     },
     "execution_count": 9,
     "metadata": {},
     "output_type": "execute_result"
    }
   ],
   "source": [
    "texts = df.raw_address.tolist() + test.raw_address.tolist()\n",
    "len(texts)"
   ]
  },
  {
   "cell_type": "markdown",
   "metadata": {},
   "source": [
    "# Tokenize data"
   ]
  },
  {
   "cell_type": "code",
   "execution_count": 10,
   "metadata": {},
   "outputs": [],
   "source": [
    "tokenizer = CustomTokenizer.CustomTokenizer(train_texts = texts)\n",
    "tokenizer.train_tokenize()"
   ]
  },
  {
   "cell_type": "code",
   "execution_count": 11,
   "metadata": {
    "scrolled": true
   },
   "outputs": [
    {
     "data": {
      "text/plain": [
       "88307"
      ]
     },
     "execution_count": 11,
     "metadata": {},
     "output_type": "execute_result"
    }
   ],
   "source": [
    "len(tokenizer.tokenizer.word_index.items())"
   ]
  },
  {
   "cell_type": "code",
   "execution_count": 12,
   "metadata": {},
   "outputs": [],
   "source": [
    "reverse_word_map = dict(map(reversed, tokenizer.tokenizer.word_index.items()))"
   ]
  },
  {
   "cell_type": "code",
   "execution_count": 13,
   "metadata": {
    "scrolled": true
   },
   "outputs": [
    {
     "data": {
      "text/plain": [
       "(270000, 30)"
      ]
     },
     "execution_count": 13,
     "metadata": {},
     "output_type": "execute_result"
    }
   ],
   "source": [
    "tokenized_X_train = tokenizer.vectorize_input(train['raw_address'])\n",
    "tokenized_X_train.shape"
   ]
  },
  {
   "cell_type": "markdown",
   "metadata": {},
   "source": [
    "# Build and train model"
   ]
  },
  {
   "cell_type": "code",
   "execution_count": 14,
   "metadata": {},
   "outputs": [],
   "source": [
    "from keras.models import Model\n",
    "from keras.layers import Input, Embedding, LSTM, Dense, Bidirectional, Dropout"
   ]
  },
  {
   "cell_type": "code",
   "execution_count": 15,
   "metadata": {},
   "outputs": [],
   "source": [
    "num_tokens = len(tokenizer.tokenizer.word_index)+1\n",
    "latent_dim = 128\n",
    "batch_size = 256\n",
    "epochs = 10"
   ]
  },
  {
   "cell_type": "code",
   "execution_count": 16,
   "metadata": {},
   "outputs": [],
   "source": [
    "input_data = tokenized_X_train\n",
    "output_data = CustomTokenizer.pad_sequence_tokens(train.tokens_onehot)"
   ]
  },
  {
   "cell_type": "code",
   "execution_count": 17,
   "metadata": {
    "scrolled": false
   },
   "outputs": [
    {
     "name": "stdout",
     "output_type": "stream",
     "text": [
      "Epoch 1/10\n",
      "844/844 [==============================] - 172s 198ms/step - loss: 0.1562 - val_loss: 0.1055\n",
      "Epoch 2/10\n",
      "844/844 [==============================] - 167s 198ms/step - loss: 0.1016 - val_loss: 0.0997\n",
      "Epoch 3/10\n",
      "844/844 [==============================] - 176s 208ms/step - loss: 0.0958 - val_loss: 0.0984\n",
      "Epoch 4/10\n",
      "844/844 [==============================] - 171s 202ms/step - loss: 0.0917 - val_loss: 0.0952\n",
      "Epoch 5/10\n",
      "844/844 [==============================] - 171s 203ms/step - loss: 0.0884 - val_loss: 0.0946\n",
      "Epoch 6/10\n",
      "844/844 [==============================] - 176s 209ms/step - loss: 0.0852 - val_loss: 0.0947\n",
      "Epoch 7/10\n",
      "844/844 [==============================] - 178s 211ms/step - loss: 0.0829 - val_loss: 0.0961\n",
      "Epoch 8/10\n",
      "844/844 [==============================] - 167s 198ms/step - loss: 0.0808 - val_loss: 0.0947\n",
      "Epoch 9/10\n",
      "844/844 [==============================] - 169s 200ms/step - loss: 0.0787 - val_loss: 0.0950\n",
      "Epoch 10/10\n",
      "844/844 [==============================] - 170s 202ms/step - loss: 0.0765 - val_loss: 0.0957\n"
     ]
    }
   ],
   "source": [
    "input_layer = Input(shape=(None,),name='input')\n",
    "x = Embedding(num_tokens, latent_dim,name='embedding')(input_layer)\n",
    "lstm_layer = Bidirectional(LSTM(latent_dim, return_sequences=True, return_state=True), name='bidirectional_lstm')\n",
    "output,_,_,_,_ =lstm_layer(x)\n",
    "dropout_layer = Dropout(0.5, name='dropout')\n",
    "output = dropout_layer(output)\n",
    "dense_layer = Dense(3, activation='softmax', name='dense')\n",
    "output = dense_layer(output)\n",
    "\n",
    "model = Model(input_layer, output)\n",
    "\n",
    "model.compile(optimizer='rmsprop', loss='categorical_crossentropy')\n",
    "history=model.fit(input_data, output_data,\n",
    "          batch_size=batch_size,\n",
    "          epochs=epochs,\n",
    "          validation_split=0.2)"
   ]
  },
  {
   "cell_type": "code",
   "execution_count": 18,
   "metadata": {
    "scrolled": true
   },
   "outputs": [
    {
     "name": "stderr",
     "output_type": "stream",
     "text": [
      "WARNING:absl:Found untraced functions such as lstm_cell_1_layer_call_fn, lstm_cell_1_layer_call_and_return_conditional_losses, lstm_cell_2_layer_call_fn, lstm_cell_2_layer_call_and_return_conditional_losses, lstm_cell_1_layer_call_fn while saving (showing 5 of 10). These functions will not be directly callable after loading.\n",
      "WARNING:absl:Found untraced functions such as lstm_cell_1_layer_call_fn, lstm_cell_1_layer_call_and_return_conditional_losses, lstm_cell_2_layer_call_fn, lstm_cell_2_layer_call_and_return_conditional_losses, lstm_cell_1_layer_call_fn while saving (showing 5 of 10). These functions will not be directly callable after loading.\n"
     ]
    },
    {
     "name": "stdout",
     "output_type": "stream",
     "text": [
      "INFO:tensorflow:Assets written to: ../model/seq_to_predict_tagging\\assets\n"
     ]
    },
    {
     "name": "stderr",
     "output_type": "stream",
     "text": [
      "INFO:tensorflow:Assets written to: ../model/seq_to_predict_tagging\\assets\n"
     ]
    }
   ],
   "source": [
    "model.save('../model/seq_to_predict_tagging')"
   ]
  },
  {
   "cell_type": "code",
   "execution_count": 19,
   "metadata": {
    "scrolled": true
   },
   "outputs": [
    {
     "name": "stdout",
     "output_type": "stream",
     "text": [
      "Model: \"model\"\n",
      "_________________________________________________________________\n",
      "Layer (type)                 Output Shape              Param #   \n",
      "=================================================================\n",
      "input (InputLayer)           [(None, None)]            0         \n",
      "_________________________________________________________________\n",
      "embedding (Embedding)        (None, None, 128)         11303424  \n",
      "_________________________________________________________________\n",
      "bidirectional_lstm (Bidirect [(None, None, 256), (None 263168    \n",
      "_________________________________________________________________\n",
      "dropout (Dropout)            (None, None, 256)         0         \n",
      "_________________________________________________________________\n",
      "dense (Dense)                (None, None, 3)           771       \n",
      "=================================================================\n",
      "Total params: 11,567,363\n",
      "Trainable params: 11,567,363\n",
      "Non-trainable params: 0\n",
      "_________________________________________________________________\n"
     ]
    }
   ],
   "source": [
    "model.summary()"
   ]
  },
  {
   "cell_type": "code",
   "execution_count": 20,
   "metadata": {},
   "outputs": [
    {
     "data": {
      "image/png": "[encoded data removed]",
      "text/plain": [
       "<Figure size 432x288 with 1 Axes>"
      ]
     },
     "metadata": {
      "needs_background": "light"
     },
     "output_type": "display_data"
    }
   ],
   "source": [
    "# summarize history for loss\n",
    "plt.plot(history.history['loss'])\n",
    "plt.plot(history.history['val_loss'])\n",
    "plt.title('model loss')\n",
    "plt.ylabel('loss')\n",
    "plt.xlabel('epoch')\n",
    "plt.legend(['train', 'test'], loc='upper left')\n",
    "plt.show()"
   ]
  },
  {
   "cell_type": "markdown",
   "metadata": {},
   "source": [
    "# Inference on Validation set"
   ]
  },
  {
   "cell_type": "code",
   "execution_count": 21,
   "metadata": {},
   "outputs": [],
   "source": [
    "tokenized_X_valid = tokenizer.vectorize_input(valid['raw_address'])"
   ]
  },
  {
   "cell_type": "code",
   "execution_count": 22,
   "metadata": {},
   "outputs": [],
   "source": [
    "def predict(tokenized_list, df):\n",
    "    softmax = model.predict(tokenized_list)\n",
    "    pred = np.argmax(softmax, axis=-1)\n",
    "    return pred.tolist()"
   ]
  },
  {
   "cell_type": "code",
   "execution_count": 23,
   "metadata": {
    "scrolled": true
   },
   "outputs": [
    {
     "name": "stderr",
     "output_type": "stream",
     "text": [
      "D:\\Users\\Admin\\anaconda3\\envs\\shopee2021\\lib\\site-packages\\ipykernel_launcher.py:1: SettingWithCopyWarning: \n",
      "A value is trying to be set on a copy of a slice from a DataFrame.\n",
      "Try using .loc[row_indexer,col_indexer] = value instead\n",
      "\n",
      "See the caveats in the documentation: https://pandas.pydata.org/pandas-docs/stable/user_guide/indexing.html#returning-a-view-versus-a-copy\n",
      "  \"\"\"Entry point for launching an IPython kernel.\n",
      "D:\\Users\\Admin\\anaconda3\\envs\\shopee2021\\lib\\site-packages\\ipykernel_launcher.py:2: SettingWithCopyWarning: \n",
      "A value is trying to be set on a copy of a slice from a DataFrame.\n",
      "Try using .loc[row_indexer,col_indexer] = value instead\n",
      "\n",
      "See the caveats in the documentation: https://pandas.pydata.org/pandas-docs/stable/user_guide/indexing.html#returning-a-view-versus-a-copy\n",
      "  \n"
     ]
    }
   ],
   "source": [
    "valid['pred'] = predict(tokenized_X_valid,valid)\n",
    "valid['reverse_raw_tokens'] = tokenizer.reverse_tokenized_to_array_text(tokenized_X_valid)"
   ]
  },
  {
   "cell_type": "code",
   "execution_count": 24,
   "metadata": {},
   "outputs": [
    {
     "name": "stderr",
     "output_type": "stream",
     "text": [
      "D:\\Users\\Admin\\anaconda3\\envs\\shopee2021\\lib\\site-packages\\ipykernel_launcher.py:1: SettingWithCopyWarning: \n",
      "A value is trying to be set on a copy of a slice from a DataFrame.\n",
      "Try using .loc[row_indexer,col_indexer] = value instead\n",
      "\n",
      "See the caveats in the documentation: https://pandas.pydata.org/pandas-docs/stable/user_guide/indexing.html#returning-a-view-versus-a-copy\n",
      "  \"\"\"Entry point for launching an IPython kernel.\n"
     ]
    }
   ],
   "source": [
    "valid['pred_POI/street'] = valid.apply(lambda x: get_predicted_tokens(x['pred'], x['reverse_raw_tokens']), axis=1)"
   ]
  },
  {
   "cell_type": "code",
   "execution_count": 25,
   "metadata": {
    "scrolled": true
   },
   "outputs": [
    {
     "data": {
      "text/html": [
       "<div>\n",
       "<style scoped>\n",
       "    .dataframe tbody tr th:only-of-type {\n",
       "        vertical-align: middle;\n",
       "    }\n",
       "\n",
       "    .dataframe tbody tr th {\n",
       "        vertical-align: top;\n",
       "    }\n",
       "\n",
       "    .dataframe thead th {\n",
       "        text-align: right;\n",
       "    }\n",
       "</style>\n",
       "<table border=\"1\" class=\"dataframe\">\n",
       "  <thead>\n",
       "    <tr style=\"text-align: right;\">\n",
       "      <th></th>\n",
       "      <th>POI/street</th>\n",
       "      <th>pred_POI/street</th>\n",
       "    </tr>\n",
       "    <tr>\n",
       "      <th>id</th>\n",
       "      <th></th>\n",
       "      <th></th>\n",
       "    </tr>\n",
       "  </thead>\n",
       "  <tbody>\n",
       "    <tr>\n",
       "      <th>4361</th>\n",
       "      <td>stasiun klender/</td>\n",
       "      <td>stasiun klender/</td>\n",
       "    </tr>\n",
       "    <tr>\n",
       "      <th>136704</th>\n",
       "      <td>/raya maja - ranca</td>\n",
       "      <td>/raya maja ranca</td>\n",
       "    </tr>\n",
       "    <tr>\n",
       "      <th>188294</th>\n",
       "      <td>nerada estate/</td>\n",
       "      <td>nerada estate/</td>\n",
       "    </tr>\n",
       "    <tr>\n",
       "      <th>34836</th>\n",
       "      <td>/pulau putri x</td>\n",
       "      <td>/pulau putri x</td>\n",
       "    </tr>\n",
       "    <tr>\n",
       "      <th>196567</th>\n",
       "      <td>/gg. 8</td>\n",
       "      <td>/gg 8</td>\n",
       "    </tr>\n",
       "    <tr>\n",
       "      <th>197068</th>\n",
       "      <td>laundry bintang/raya pasar kec</td>\n",
       "      <td>/raya pasar</td>\n",
       "    </tr>\n",
       "    <tr>\n",
       "      <th>15827</th>\n",
       "      <td>/cem g</td>\n",
       "      <td>/cem g</td>\n",
       "    </tr>\n",
       "    <tr>\n",
       "      <th>134068</th>\n",
       "      <td>toko abi/raya ngan</td>\n",
       "      <td>toko/raya</td>\n",
       "    </tr>\n",
       "    <tr>\n",
       "      <th>142256</th>\n",
       "      <td>/raya roomo</td>\n",
       "      <td>/raya roomo</td>\n",
       "    </tr>\n",
       "    <tr>\n",
       "      <th>296336</th>\n",
       "      <td>anyan/cid timur</td>\n",
       "      <td>/cid timur</td>\n",
       "    </tr>\n",
       "  </tbody>\n",
       "</table>\n",
       "</div>"
      ],
      "text/plain": [
       "                            POI/street   pred_POI/street\n",
       "id                                                      \n",
       "4361                  stasiun klender/  stasiun klender/\n",
       "136704              /raya maja - ranca  /raya maja ranca\n",
       "188294                  nerada estate/    nerada estate/\n",
       "34836                   /pulau putri x    /pulau putri x\n",
       "196567                          /gg. 8             /gg 8\n",
       "197068  laundry bintang/raya pasar kec       /raya pasar\n",
       "15827                           /cem g            /cem g\n",
       "134068              toko abi/raya ngan         toko/raya\n",
       "142256                     /raya roomo       /raya roomo\n",
       "296336                 anyan/cid timur        /cid timur"
      ]
     },
     "execution_count": 25,
     "metadata": {},
     "output_type": "execute_result"
    }
   ],
   "source": [
    "valid[['POI/street','pred_POI/street']].sample(10)"
   ]
  },
  {
   "cell_type": "code",
   "execution_count": 26,
   "metadata": {
    "scrolled": true
   },
   "outputs": [
    {
     "data": {
      "text/plain": [
       "(30000, 12)"
      ]
     },
     "execution_count": 26,
     "metadata": {},
     "output_type": "execute_result"
    }
   ],
   "source": [
    "valid.shape"
   ]
  },
  {
   "cell_type": "code",
   "execution_count": 27,
   "metadata": {},
   "outputs": [
    {
     "data": {
      "text/plain": [
       "0.28873333333333334"
      ]
     },
     "execution_count": 27,
     "metadata": {},
     "output_type": "execute_result"
    }
   ],
   "source": [
    "accuracy_score(y_true=valid['POI/street'], y_pred=valid['pred_POI/street'])"
   ]
  },
  {
   "cell_type": "markdown",
   "metadata": {},
   "source": [
    "# Inference on Test data"
   ]
  },
  {
   "cell_type": "code",
   "execution_count": 28,
   "metadata": {},
   "outputs": [],
   "source": [
    "tokenized_X_test = tokenizer.vectorize_input(test['raw_address'])"
   ]
  },
  {
   "cell_type": "code",
   "execution_count": 29,
   "metadata": {
    "scrolled": true
   },
   "outputs": [],
   "source": [
    "test['pred'] = predict(tokenized_X_test, test)\n",
    "test['reverse_raw_tokens'] = tokenizer.reverse_tokenized_to_array_text(tokenized_X_test)"
   ]
  },
  {
   "cell_type": "code",
   "execution_count": 30,
   "metadata": {},
   "outputs": [],
   "source": [
    "test['POI/street'] = test.apply(lambda x: get_predicted_tokens(x['pred'], x['reverse_raw_tokens']), axis=1)"
   ]
  },
  {
   "cell_type": "code",
   "execution_count": 31,
   "metadata": {
    "scrolled": false
   },
   "outputs": [
    {
     "data": {
      "text/html": [
       "<div>\n",
       "<style scoped>\n",
       "    .dataframe tbody tr th:only-of-type {\n",
       "        vertical-align: middle;\n",
       "    }\n",
       "\n",
       "    .dataframe tbody tr th {\n",
       "        vertical-align: top;\n",
       "    }\n",
       "\n",
       "    .dataframe thead th {\n",
       "        text-align: right;\n",
       "    }\n",
       "</style>\n",
       "<table border=\"1\" class=\"dataframe\">\n",
       "  <thead>\n",
       "    <tr style=\"text-align: right;\">\n",
       "      <th></th>\n",
       "      <th>raw_address</th>\n",
       "      <th>POI/street</th>\n",
       "    </tr>\n",
       "    <tr>\n",
       "      <th>id</th>\n",
       "      <th></th>\n",
       "      <th></th>\n",
       "    </tr>\n",
       "  </thead>\n",
       "  <tbody>\n",
       "    <tr>\n",
       "      <th>46523</th>\n",
       "      <td>sman 1 kau, desa kau, kauman</td>\n",
       "      <td>sman 1/</td>\n",
       "    </tr>\n",
       "    <tr>\n",
       "      <th>22721</th>\n",
       "      <td>lemb 47 menteng 7 menteng</td>\n",
       "      <td>/lemb</td>\n",
       "    </tr>\n",
       "    <tr>\n",
       "      <th>10782</th>\n",
       "      <td>paw cikampek</td>\n",
       "      <td>/</td>\n",
       "    </tr>\n",
       "    <tr>\n",
       "      <th>38162</th>\n",
       "      <td>toko elektr, anyar 1, no 37 rw 10</td>\n",
       "      <td>toko/anyar</td>\n",
       "    </tr>\n",
       "    <tr>\n",
       "      <th>44746</th>\n",
       "      <td>pem rt. 01 sedayu rt 1 muntilan</td>\n",
       "      <td>/pem</td>\n",
       "    </tr>\n",
       "    <tr>\n",
       "      <th>29218</th>\n",
       "      <td>gandaria utara karya utama 13-22 5 12140 kebay...</td>\n",
       "      <td>/karya utama</td>\n",
       "    </tr>\n",
       "    <tr>\n",
       "      <th>18331</th>\n",
       "      <td>kedaung kali angke h.na 93 rt 3 4 cengkareng</td>\n",
       "      <td>/h</td>\n",
       "    </tr>\n",
       "    <tr>\n",
       "      <th>42328</th>\n",
       "      <td>pondok bambu bet raya, 287 rt 9 rw 8 duren sawit</td>\n",
       "      <td>/bambu bet raya</td>\n",
       "    </tr>\n",
       "    <tr>\n",
       "      <th>38983</th>\n",
       "      <td>sunter agung agung barat 42 17 rt 6 16 14350 t...</td>\n",
       "      <td>/agung agung barat</td>\n",
       "    </tr>\n",
       "    <tr>\n",
       "      <th>2275</th>\n",
       "      <td>lebak jaya i</td>\n",
       "      <td>/lebak jaya</td>\n",
       "    </tr>\n",
       "  </tbody>\n",
       "</table>\n",
       "</div>"
      ],
      "text/plain": [
       "                                             raw_address          POI/street\n",
       "id                                                                          \n",
       "46523                       sman 1 kau, desa kau, kauman             sman 1/\n",
       "22721                          lemb 47 menteng 7 menteng               /lemb\n",
       "10782                                       paw cikampek                   /\n",
       "38162                  toko elektr, anyar 1, no 37 rw 10          toko/anyar\n",
       "44746                    pem rt. 01 sedayu rt 1 muntilan                /pem\n",
       "29218  gandaria utara karya utama 13-22 5 12140 kebay...        /karya utama\n",
       "18331       kedaung kali angke h.na 93 rt 3 4 cengkareng                  /h\n",
       "42328   pondok bambu bet raya, 287 rt 9 rw 8 duren sawit     /bambu bet raya\n",
       "38983  sunter agung agung barat 42 17 rt 6 16 14350 t...  /agung agung barat\n",
       "2275                                        lebak jaya i         /lebak jaya"
      ]
     },
     "execution_count": 31,
     "metadata": {},
     "output_type": "execute_result"
    }
   ],
   "source": [
    "test[['raw_address','POI/street']].sample(10)"
   ]
  },
  {
   "cell_type": "code",
   "execution_count": 31,
   "metadata": {},
   "outputs": [],
   "source": [
    "# Save prediction\n",
    "test['POI/street'].to_csv('../data/pred.csv')"
   ]
  },
  {
   "cell_type": "markdown",
   "metadata": {},
   "source": [
    "In the end, test performance is similar with validation performance."
   ]
  }
 ],
 "metadata": {
  "kernelspec": {
   "display_name": "Python [conda env:shopee2021]",
   "language": "python",
   "name": "conda-env-shopee2021-py"
  },
  "language_info": {
   "codemirror_mode": {
    "name": "ipython",
    "version": 3
   },
   "file_extension": ".py",
   "mimetype": "text/x-python",
   "name": "python",
   "nbconvert_exporter": "python",
   "pygments_lexer": "ipython3",
   "version": "3.6.12"
  }
 },
 "nbformat": 4,
 "nbformat_minor": 4
}
