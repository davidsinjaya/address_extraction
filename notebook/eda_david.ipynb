{
 "cells": [
  {
   "cell_type": "code",
   "execution_count": 1,
   "metadata": {},
   "outputs": [],
   "source": [
    "import pandas as pd\n",
    "import numpy as np\n",
    "import seaborn as sns\n",
    "import matplotlib.pyplot as plt\n",
    "\n",
    "import warnings\n",
    "warnings.filterwarnings(\"ignore\") # remove warning\n",
    "\n",
    "import tensorflow as tf\n",
    "tf.get_logger().setLevel('INFO')"
   ]
  },
  {
   "cell_type": "code",
   "execution_count": 2,
   "metadata": {},
   "outputs": [],
   "source": [
    "train_df = pd.read_csv('../data/train.csv')\n",
    "test_df = pd.read_csv('../data/test.csv')"
   ]
  },
  {
   "cell_type": "code",
   "execution_count": 3,
   "metadata": {
    "scrolled": true
   },
   "outputs": [
    {
     "name": "stdout",
     "output_type": "stream",
     "text": [
      "(300000, 3)\n",
      "(50000, 2)\n"
     ]
    }
   ],
   "source": [
    "print(train_df.shape)\n",
    "print(test_df.shape)"
   ]
  },
  {
   "cell_type": "code",
   "execution_count": 4,
   "metadata": {
    "scrolled": false
   },
   "outputs": [
    {
     "data": {
      "text/html": [
       "<div>\n",
       "<style scoped>\n",
       "    .dataframe tbody tr th:only-of-type {\n",
       "        vertical-align: middle;\n",
       "    }\n",
       "\n",
       "    .dataframe tbody tr th {\n",
       "        vertical-align: top;\n",
       "    }\n",
       "\n",
       "    .dataframe thead th {\n",
       "        text-align: right;\n",
       "    }\n",
       "</style>\n",
       "<table border=\"1\" class=\"dataframe\">\n",
       "  <thead>\n",
       "    <tr style=\"text-align: right;\">\n",
       "      <th></th>\n",
       "      <th>id</th>\n",
       "      <th>raw_address</th>\n",
       "      <th>POI/street</th>\n",
       "    </tr>\n",
       "  </thead>\n",
       "  <tbody>\n",
       "    <tr>\n",
       "      <th>0</th>\n",
       "      <td>0</td>\n",
       "      <td>jl kapuk timur delta sili iii lippo cika 11 a ...</td>\n",
       "      <td>/jl kapuk timur delta sili iii lippo cika</td>\n",
       "    </tr>\n",
       "    <tr>\n",
       "      <th>1</th>\n",
       "      <td>1</td>\n",
       "      <td>aye, jati sampurna</td>\n",
       "      <td>/</td>\n",
       "    </tr>\n",
       "    <tr>\n",
       "      <th>2</th>\n",
       "      <td>2</td>\n",
       "      <td>setu siung 119 rt 5 1 13880 cipayung</td>\n",
       "      <td>/siung</td>\n",
       "    </tr>\n",
       "    <tr>\n",
       "      <th>3</th>\n",
       "      <td>3</td>\n",
       "      <td>toko dita, kertosono</td>\n",
       "      <td>toko dita/</td>\n",
       "    </tr>\n",
       "    <tr>\n",
       "      <th>4</th>\n",
       "      <td>4</td>\n",
       "      <td>jl. orde baru</td>\n",
       "      <td>/jl. orde baru</td>\n",
       "    </tr>\n",
       "  </tbody>\n",
       "</table>\n",
       "</div>"
      ],
      "text/plain": [
       "   id                                        raw_address  \\\n",
       "0   0  jl kapuk timur delta sili iii lippo cika 11 a ...   \n",
       "1   1                                 aye, jati sampurna   \n",
       "2   2               setu siung 119 rt 5 1 13880 cipayung   \n",
       "3   3                               toko dita, kertosono   \n",
       "4   4                                      jl. orde baru   \n",
       "\n",
       "                                  POI/street  \n",
       "0  /jl kapuk timur delta sili iii lippo cika  \n",
       "1                                          /  \n",
       "2                                     /siung  \n",
       "3                                 toko dita/  \n",
       "4                             /jl. orde baru  "
      ]
     },
     "execution_count": 4,
     "metadata": {},
     "output_type": "execute_result"
    }
   ],
   "source": [
    "train_df.head()"
   ]
  },
  {
   "cell_type": "code",
   "execution_count": 5,
   "metadata": {},
   "outputs": [],
   "source": [
    "train_df['POI'] , train_df['street'] = zip(*train_df['POI/street'].str.split(pat='/'))"
   ]
  },
  {
   "cell_type": "code",
   "execution_count": 6,
   "metadata": {
    "scrolled": true
   },
   "outputs": [
    {
     "data": {
      "text/html": [
       "<div>\n",
       "<style scoped>\n",
       "    .dataframe tbody tr th:only-of-type {\n",
       "        vertical-align: middle;\n",
       "    }\n",
       "\n",
       "    .dataframe tbody tr th {\n",
       "        vertical-align: top;\n",
       "    }\n",
       "\n",
       "    .dataframe thead th {\n",
       "        text-align: right;\n",
       "    }\n",
       "</style>\n",
       "<table border=\"1\" class=\"dataframe\">\n",
       "  <thead>\n",
       "    <tr style=\"text-align: right;\">\n",
       "      <th></th>\n",
       "      <th>id</th>\n",
       "      <th>raw_address</th>\n",
       "      <th>POI/street</th>\n",
       "      <th>POI</th>\n",
       "      <th>street</th>\n",
       "    </tr>\n",
       "  </thead>\n",
       "  <tbody>\n",
       "    <tr>\n",
       "      <th>0</th>\n",
       "      <td>0</td>\n",
       "      <td>jl kapuk timur delta sili iii lippo cika 11 a ...</td>\n",
       "      <td>/jl kapuk timur delta sili iii lippo cika</td>\n",
       "      <td></td>\n",
       "      <td>jl kapuk timur delta sili iii lippo cika</td>\n",
       "    </tr>\n",
       "    <tr>\n",
       "      <th>1</th>\n",
       "      <td>1</td>\n",
       "      <td>aye, jati sampurna</td>\n",
       "      <td>/</td>\n",
       "      <td></td>\n",
       "      <td></td>\n",
       "    </tr>\n",
       "    <tr>\n",
       "      <th>2</th>\n",
       "      <td>2</td>\n",
       "      <td>setu siung 119 rt 5 1 13880 cipayung</td>\n",
       "      <td>/siung</td>\n",
       "      <td></td>\n",
       "      <td>siung</td>\n",
       "    </tr>\n",
       "    <tr>\n",
       "      <th>3</th>\n",
       "      <td>3</td>\n",
       "      <td>toko dita, kertosono</td>\n",
       "      <td>toko dita/</td>\n",
       "      <td>toko dita</td>\n",
       "      <td></td>\n",
       "    </tr>\n",
       "    <tr>\n",
       "      <th>4</th>\n",
       "      <td>4</td>\n",
       "      <td>jl. orde baru</td>\n",
       "      <td>/jl. orde baru</td>\n",
       "      <td></td>\n",
       "      <td>jl. orde baru</td>\n",
       "    </tr>\n",
       "  </tbody>\n",
       "</table>\n",
       "</div>"
      ],
      "text/plain": [
       "   id                                        raw_address  \\\n",
       "0   0  jl kapuk timur delta sili iii lippo cika 11 a ...   \n",
       "1   1                                 aye, jati sampurna   \n",
       "2   2               setu siung 119 rt 5 1 13880 cipayung   \n",
       "3   3                               toko dita, kertosono   \n",
       "4   4                                      jl. orde baru   \n",
       "\n",
       "                                  POI/street        POI  \\\n",
       "0  /jl kapuk timur delta sili iii lippo cika              \n",
       "1                                          /              \n",
       "2                                     /siung              \n",
       "3                                 toko dita/  toko dita   \n",
       "4                             /jl. orde baru              \n",
       "\n",
       "                                     street  \n",
       "0  jl kapuk timur delta sili iii lippo cika  \n",
       "1                                            \n",
       "2                                     siung  \n",
       "3                                            \n",
       "4                             jl. orde baru  "
      ]
     },
     "execution_count": 6,
     "metadata": {},
     "output_type": "execute_result"
    }
   ],
   "source": [
    "train_df.head()"
   ]
  },
  {
   "cell_type": "code",
   "execution_count": 7,
   "metadata": {},
   "outputs": [
    {
     "data": {
      "text/plain": [
       "178509"
      ]
     },
     "execution_count": 7,
     "metadata": {},
     "output_type": "execute_result"
    }
   ],
   "source": [
    "train_df[train_df['POI']==''].id.count()"
   ]
  },
  {
   "cell_type": "code",
   "execution_count": 8,
   "metadata": {},
   "outputs": [
    {
     "data": {
      "text/plain": [
       "70143"
      ]
     },
     "execution_count": 8,
     "metadata": {},
     "output_type": "execute_result"
    }
   ],
   "source": [
    "train_df[train_df['street']==''].id.count()"
   ]
  },
  {
   "cell_type": "code",
   "execution_count": null,
   "metadata": {},
   "outputs": [],
   "source": []
  },
  {
   "cell_type": "markdown",
   "metadata": {},
   "source": [
    "## EDA"
   ]
  },
  {
   "cell_type": "markdown",
   "metadata": {},
   "source": [
    "### Word One Hot Encoding"
   ]
  },
  {
   "cell_type": "code",
   "execution_count": 9,
   "metadata": {
    "scrolled": true
   },
   "outputs": [],
   "source": [
    "import nltk\n",
    "from nltk.tokenize import word_tokenize"
   ]
  },
  {
   "cell_type": "code",
   "execution_count": 10,
   "metadata": {},
   "outputs": [],
   "source": [
    "# tokenize word. replace number with token NUMB since the number is not important in this analysis\n",
    "unique_word_list = set()\n",
    "for col in ['raw_address','POI', 'street']:\n",
    "    train_df[col+'_numb_removed'] = train_df[col].str.replace('\\d+',' NUMB ')\n",
    "    corpus = train_df[col+'_numb_removed'].values\n",
    "    unique_word_list=unique_word_list.union( set(word_tokenize(\" \".join(corpus))) ) #join two sets"
   ]
  },
  {
   "cell_type": "code",
   "execution_count": 11,
   "metadata": {},
   "outputs": [
    {
     "data": {
      "text/plain": [
       "87541"
      ]
     },
     "execution_count": 11,
     "metadata": {},
     "output_type": "execute_result"
    }
   ],
   "source": [
    "# unique word\n",
    "len(unique_word_list)"
   ]
  },
  {
   "cell_type": "code",
   "execution_count": 12,
   "metadata": {},
   "outputs": [],
   "source": [
    "# create dict of token\n",
    "token_dict={}\n",
    "\n",
    "i=1\n",
    "for token in unique_word_list:\n",
    "    token_dict[token] = i\n",
    "    i += 1"
   ]
  },
  {
   "cell_type": "code",
   "execution_count": 13,
   "metadata": {},
   "outputs": [],
   "source": [
    "def tokenize_word(text):\n",
    "    try:\n",
    "        tokens = word_tokenize(text)\n",
    "        return [token_dict[token] for token in tokens]\n",
    "    except:\n",
    "        pass"
   ]
  },
  {
   "cell_type": "code",
   "execution_count": 28,
   "metadata": {
    "scrolled": true
   },
   "outputs": [],
   "source": [
    "for col in ['raw_address','POI', 'street']:\n",
    "    train_df[col+'_tokenized'] = train_df[col+'_numb_removed'].apply(tokenize_word)"
   ]
  },
  {
   "cell_type": "code",
   "execution_count": 29,
   "metadata": {
    "scrolled": true
   },
   "outputs": [
    {
     "data": {
      "text/html": [
       "<div>\n",
       "<style scoped>\n",
       "    .dataframe tbody tr th:only-of-type {\n",
       "        vertical-align: middle;\n",
       "    }\n",
       "\n",
       "    .dataframe tbody tr th {\n",
       "        vertical-align: top;\n",
       "    }\n",
       "\n",
       "    .dataframe thead th {\n",
       "        text-align: right;\n",
       "    }\n",
       "</style>\n",
       "<table border=\"1\" class=\"dataframe\">\n",
       "  <thead>\n",
       "    <tr style=\"text-align: right;\">\n",
       "      <th></th>\n",
       "      <th>id</th>\n",
       "      <th>raw_address</th>\n",
       "      <th>POI/street</th>\n",
       "      <th>POI</th>\n",
       "      <th>street</th>\n",
       "      <th>raw_address_numb_removed</th>\n",
       "      <th>POI_numb_removed</th>\n",
       "      <th>street_numb_removed</th>\n",
       "      <th>raw_address_tokenized</th>\n",
       "      <th>POI_tokenized</th>\n",
       "      <th>street_tokenized</th>\n",
       "    </tr>\n",
       "  </thead>\n",
       "  <tbody>\n",
       "    <tr>\n",
       "      <th>239686</th>\n",
       "      <td>239686</td>\n",
       "      <td>cilandak barat cila i ujung 38 rt 2 1 12430 ci...</td>\n",
       "      <td>/cila i ujung</td>\n",
       "      <td></td>\n",
       "      <td>cila i ujung</td>\n",
       "      <td>cilandak barat cila i ujung  NUMB  rt  NUMB   ...</td>\n",
       "      <td></td>\n",
       "      <td>cila i ujung</td>\n",
       "      <td>[83052, 74694, 77057, 45206, 84491, 5180, 1620...</td>\n",
       "      <td>[]</td>\n",
       "      <td>[77057, 45206, 84491]</td>\n",
       "    </tr>\n",
       "    <tr>\n",
       "      <th>293348</th>\n",
       "      <td>293348</td>\n",
       "      <td>kut, kuta blang banda sakti</td>\n",
       "      <td>/</td>\n",
       "      <td></td>\n",
       "      <td></td>\n",
       "      <td>kut, kuta blang banda sakti</td>\n",
       "      <td></td>\n",
       "      <td></td>\n",
       "      <td>[54504, 63836, 37745, 50476, 70696, 50913]</td>\n",
       "      <td>[]</td>\n",
       "      <td>[]</td>\n",
       "    </tr>\n",
       "    <tr>\n",
       "      <th>88355</th>\n",
       "      <td>88355</td>\n",
       "      <td>re martadinata vii, ternate baru kel.</td>\n",
       "      <td>/</td>\n",
       "      <td></td>\n",
       "      <td></td>\n",
       "      <td>re martadinata vii, ternate baru kel.</td>\n",
       "      <td></td>\n",
       "      <td></td>\n",
       "      <td>[75878, 18280, 69747, 63836, 77068, 43066, 426...</td>\n",
       "      <td>[]</td>\n",
       "      <td>[]</td>\n",
       "    </tr>\n",
       "    <tr>\n",
       "      <th>254495</th>\n",
       "      <td>254495</td>\n",
       "      <td>bak dan jag bakar mas salim, raya kled,</td>\n",
       "      <td>bakwan dan jagung bakar mas salim/raya kled</td>\n",
       "      <td>bakwan dan jagung bakar mas salim</td>\n",
       "      <td>raya kled</td>\n",
       "      <td>bak dan jag bakar mas salim, raya kled,</td>\n",
       "      <td>bakwan dan jagung bakar mas salim</td>\n",
       "      <td>raya kled</td>\n",
       "      <td>[35038, 25997, 2223, 37414, 35462, 31777, 6383...</td>\n",
       "      <td>[75850, 25997, 79887, 37414, 35462, 31777]</td>\n",
       "      <td>[49443, 39105]</td>\n",
       "    </tr>\n",
       "    <tr>\n",
       "      <th>228536</th>\n",
       "      <td>228536</td>\n",
       "      <td>gg. buntu tritih kulon cilacap utara</td>\n",
       "      <td>/gg. buntu</td>\n",
       "      <td></td>\n",
       "      <td>gg. buntu</td>\n",
       "      <td>gg. buntu tritih kulon cilacap utara</td>\n",
       "      <td></td>\n",
       "      <td>gg. buntu</td>\n",
       "      <td>[26812, 78385, 69751, 21364, 60759, 3760, 8647]</td>\n",
       "      <td>[]</td>\n",
       "      <td>[26812, 78385, 69751]</td>\n",
       "    </tr>\n",
       "    <tr>\n",
       "      <th>276656</th>\n",
       "      <td>276656</td>\n",
       "      <td>gube ha bast, seberang ulu i</td>\n",
       "      <td>/gube ha bast</td>\n",
       "      <td></td>\n",
       "      <td>gube ha bast</td>\n",
       "      <td>gube ha bast, seberang ulu i</td>\n",
       "      <td></td>\n",
       "      <td>gube ha bast</td>\n",
       "      <td>[84675, 21053, 74451, 63836, 61466, 44092, 45206]</td>\n",
       "      <td>[]</td>\n",
       "      <td>[84675, 21053, 74451]</td>\n",
       "    </tr>\n",
       "    <tr>\n",
       "      <th>284138</th>\n",
       "      <td>284138</td>\n",
       "      <td>kelapa gading barat gad kir timur iv 13 rt 4 8...</td>\n",
       "      <td>/</td>\n",
       "      <td></td>\n",
       "      <td></td>\n",
       "      <td>kelapa gading barat gad kir timur iv  NUMB  rt...</td>\n",
       "      <td></td>\n",
       "      <td></td>\n",
       "      <td>[436, 25412, 74694, 44724, 85858, 32754, 51325...</td>\n",
       "      <td>[]</td>\n",
       "      <td>[]</td>\n",
       "    </tr>\n",
       "    <tr>\n",
       "      <th>59338</th>\n",
       "      <td>59338</td>\n",
       "      <td>raya pawi 40</td>\n",
       "      <td>/raya pawi</td>\n",
       "      <td></td>\n",
       "      <td>raya pawi</td>\n",
       "      <td>raya pawi  NUMB</td>\n",
       "      <td></td>\n",
       "      <td>raya pawi</td>\n",
       "      <td>[49443, 81521, 5180]</td>\n",
       "      <td>[]</td>\n",
       "      <td>[49443, 81521]</td>\n",
       "    </tr>\n",
       "    <tr>\n",
       "      <th>119535</th>\n",
       "      <td>119535</td>\n",
       "      <td>karang anyar b kar anyar no 17 rt 8 4 sawah besar</td>\n",
       "      <td>/b kar anyar</td>\n",
       "      <td></td>\n",
       "      <td>b kar anyar</td>\n",
       "      <td>karang anyar b kar anyar no  NUMB  rt  NUMB   ...</td>\n",
       "      <td></td>\n",
       "      <td>b kar anyar</td>\n",
       "      <td>[28865, 45539, 47533, 20964, 45539, 21989, 518...</td>\n",
       "      <td>[]</td>\n",
       "      <td>[47533, 20964, 45539]</td>\n",
       "    </tr>\n",
       "    <tr>\n",
       "      <th>3652</th>\n",
       "      <td>3652</td>\n",
       "      <td>meut multi konsultan, manggala</td>\n",
       "      <td>/</td>\n",
       "      <td></td>\n",
       "      <td></td>\n",
       "      <td>meut multi konsultan, manggala</td>\n",
       "      <td></td>\n",
       "      <td></td>\n",
       "      <td>[51365, 83227, 824, 63836, 4645]</td>\n",
       "      <td>[]</td>\n",
       "      <td>[]</td>\n",
       "    </tr>\n",
       "  </tbody>\n",
       "</table>\n",
       "</div>"
      ],
      "text/plain": [
       "            id                                        raw_address  \\\n",
       "239686  239686  cilandak barat cila i ujung 38 rt 2 1 12430 ci...   \n",
       "293348  293348                        kut, kuta blang banda sakti   \n",
       "88355    88355              re martadinata vii, ternate baru kel.   \n",
       "254495  254495            bak dan jag bakar mas salim, raya kled,   \n",
       "228536  228536               gg. buntu tritih kulon cilacap utara   \n",
       "276656  276656                       gube ha bast, seberang ulu i   \n",
       "284138  284138  kelapa gading barat gad kir timur iv 13 rt 4 8...   \n",
       "59338    59338                                       raya pawi 40   \n",
       "119535  119535  karang anyar b kar anyar no 17 rt 8 4 sawah besar   \n",
       "3652      3652                     meut multi konsultan, manggala   \n",
       "\n",
       "                                         POI/street  \\\n",
       "239686                                /cila i ujung   \n",
       "293348                                            /   \n",
       "88355                                             /   \n",
       "254495  bakwan dan jagung bakar mas salim/raya kled   \n",
       "228536                                   /gg. buntu   \n",
       "276656                                /gube ha bast   \n",
       "284138                                            /   \n",
       "59338                                    /raya pawi   \n",
       "119535                                 /b kar anyar   \n",
       "3652                                              /   \n",
       "\n",
       "                                      POI        street  \\\n",
       "239686                                     cila i ujung   \n",
       "293348                                                    \n",
       "88355                                                     \n",
       "254495  bakwan dan jagung bakar mas salim     raya kled   \n",
       "228536                                        gg. buntu   \n",
       "276656                                     gube ha bast   \n",
       "284138                                                    \n",
       "59338                                         raya pawi   \n",
       "119535                                      b kar anyar   \n",
       "3652                                                      \n",
       "\n",
       "                                 raw_address_numb_removed  \\\n",
       "239686  cilandak barat cila i ujung  NUMB  rt  NUMB   ...   \n",
       "293348                        kut, kuta blang banda sakti   \n",
       "88355               re martadinata vii, ternate baru kel.   \n",
       "254495            bak dan jag bakar mas salim, raya kled,   \n",
       "228536               gg. buntu tritih kulon cilacap utara   \n",
       "276656                       gube ha bast, seberang ulu i   \n",
       "284138  kelapa gading barat gad kir timur iv  NUMB  rt...   \n",
       "59338                                    raya pawi  NUMB    \n",
       "119535  karang anyar b kar anyar no  NUMB  rt  NUMB   ...   \n",
       "3652                       meut multi konsultan, manggala   \n",
       "\n",
       "                         POI_numb_removed street_numb_removed  \\\n",
       "239686                                           cila i ujung   \n",
       "293348                                                          \n",
       "88355                                                           \n",
       "254495  bakwan dan jagung bakar mas salim           raya kled   \n",
       "228536                                              gg. buntu   \n",
       "276656                                           gube ha bast   \n",
       "284138                                                          \n",
       "59338                                               raya pawi   \n",
       "119535                                            b kar anyar   \n",
       "3652                                                            \n",
       "\n",
       "                                    raw_address_tokenized  \\\n",
       "239686  [83052, 74694, 77057, 45206, 84491, 5180, 1620...   \n",
       "293348         [54504, 63836, 37745, 50476, 70696, 50913]   \n",
       "88355   [75878, 18280, 69747, 63836, 77068, 43066, 426...   \n",
       "254495  [35038, 25997, 2223, 37414, 35462, 31777, 6383...   \n",
       "228536    [26812, 78385, 69751, 21364, 60759, 3760, 8647]   \n",
       "276656  [84675, 21053, 74451, 63836, 61466, 44092, 45206]   \n",
       "284138  [436, 25412, 74694, 44724, 85858, 32754, 51325...   \n",
       "59338                                [49443, 81521, 5180]   \n",
       "119535  [28865, 45539, 47533, 20964, 45539, 21989, 518...   \n",
       "3652                     [51365, 83227, 824, 63836, 4645]   \n",
       "\n",
       "                                     POI_tokenized       street_tokenized  \n",
       "239686                                          []  [77057, 45206, 84491]  \n",
       "293348                                          []                     []  \n",
       "88355                                           []                     []  \n",
       "254495  [75850, 25997, 79887, 37414, 35462, 31777]         [49443, 39105]  \n",
       "228536                                          []  [26812, 78385, 69751]  \n",
       "276656                                          []  [84675, 21053, 74451]  \n",
       "284138                                          []                     []  \n",
       "59338                                           []         [49443, 81521]  \n",
       "119535                                          []  [47533, 20964, 45539]  \n",
       "3652                                            []                     []  "
      ]
     },
     "execution_count": 29,
     "metadata": {},
     "output_type": "execute_result"
    }
   ],
   "source": [
    "train_df.sample(10)"
   ]
  },
  {
   "cell_type": "code",
   "execution_count": 30,
   "metadata": {},
   "outputs": [],
   "source": [
    "for col in ['POI_tokenized', 'street_tokenized']:\n",
    "    train_df.loc[train_df[col].str.len() == 0, col] = 0 # impute empty output with 0"
   ]
  },
  {
   "cell_type": "code",
   "execution_count": 41,
   "metadata": {
    "scrolled": true
   },
   "outputs": [
    {
     "data": {
      "text/html": [
       "<div>\n",
       "<style scoped>\n",
       "    .dataframe tbody tr th:only-of-type {\n",
       "        vertical-align: middle;\n",
       "    }\n",
       "\n",
       "    .dataframe tbody tr th {\n",
       "        vertical-align: top;\n",
       "    }\n",
       "\n",
       "    .dataframe thead th {\n",
       "        text-align: right;\n",
       "    }\n",
       "</style>\n",
       "<table border=\"1\" class=\"dataframe\">\n",
       "  <thead>\n",
       "    <tr style=\"text-align: right;\">\n",
       "      <th></th>\n",
       "      <th>id</th>\n",
       "      <th>raw_address</th>\n",
       "      <th>POI/street</th>\n",
       "      <th>POI</th>\n",
       "      <th>street</th>\n",
       "      <th>raw_address_numb_removed</th>\n",
       "      <th>POI_numb_removed</th>\n",
       "      <th>street_numb_removed</th>\n",
       "      <th>raw_address_tokenized</th>\n",
       "      <th>POI_tokenized</th>\n",
       "      <th>street_tokenized</th>\n",
       "    </tr>\n",
       "  </thead>\n",
       "  <tbody>\n",
       "    <tr>\n",
       "      <th>0</th>\n",
       "      <td>0</td>\n",
       "      <td>jl kapuk timur delta sili iii lippo cika 11 a ...</td>\n",
       "      <td>/jl kapuk timur delta sili iii lippo cika</td>\n",
       "      <td></td>\n",
       "      <td>jl kapuk timur delta sili iii lippo cika</td>\n",
       "      <td>jl kapuk timur delta sili iii lippo cika  NUMB...</td>\n",
       "      <td></td>\n",
       "      <td>jl kapuk timur delta sili iii lippo cika</td>\n",
       "      <td>[40092, 84419, 32754, 11100, 68752, 49783, 579...</td>\n",
       "      <td>0</td>\n",
       "      <td>[40092, 84419, 32754, 11100, 68752, 49783, 579...</td>\n",
       "    </tr>\n",
       "    <tr>\n",
       "      <th>1</th>\n",
       "      <td>1</td>\n",
       "      <td>aye, jati sampurna</td>\n",
       "      <td>/</td>\n",
       "      <td></td>\n",
       "      <td></td>\n",
       "      <td>aye, jati sampurna</td>\n",
       "      <td></td>\n",
       "      <td></td>\n",
       "      <td>[50685, 63836, 63735, 48193]</td>\n",
       "      <td>0</td>\n",
       "      <td>0</td>\n",
       "    </tr>\n",
       "    <tr>\n",
       "      <th>2</th>\n",
       "      <td>2</td>\n",
       "      <td>setu siung 119 rt 5 1 13880 cipayung</td>\n",
       "      <td>/siung</td>\n",
       "      <td></td>\n",
       "      <td>siung</td>\n",
       "      <td>setu siung  NUMB  rt  NUMB   NUMB   NUMB  cipa...</td>\n",
       "      <td></td>\n",
       "      <td>siung</td>\n",
       "      <td>[69481, 28653, 5180, 16208, 5180, 5180, 5180, ...</td>\n",
       "      <td>0</td>\n",
       "      <td>[28653]</td>\n",
       "    </tr>\n",
       "    <tr>\n",
       "      <th>3</th>\n",
       "      <td>3</td>\n",
       "      <td>toko dita, kertosono</td>\n",
       "      <td>toko dita/</td>\n",
       "      <td>toko dita</td>\n",
       "      <td></td>\n",
       "      <td>toko dita, kertosono</td>\n",
       "      <td>toko dita</td>\n",
       "      <td></td>\n",
       "      <td>[53037, 62544, 63836, 63005]</td>\n",
       "      <td>[53037, 62544]</td>\n",
       "      <td>0</td>\n",
       "    </tr>\n",
       "    <tr>\n",
       "      <th>4</th>\n",
       "      <td>4</td>\n",
       "      <td>jl. orde baru</td>\n",
       "      <td>/jl. orde baru</td>\n",
       "      <td></td>\n",
       "      <td>jl. orde baru</td>\n",
       "      <td>jl. orde baru</td>\n",
       "      <td></td>\n",
       "      <td>jl. orde baru</td>\n",
       "      <td>[40092, 78385, 34890, 43066]</td>\n",
       "      <td>0</td>\n",
       "      <td>[40092, 78385, 34890, 43066]</td>\n",
       "    </tr>\n",
       "  </tbody>\n",
       "</table>\n",
       "</div>"
      ],
      "text/plain": [
       "   id                                        raw_address  \\\n",
       "0   0  jl kapuk timur delta sili iii lippo cika 11 a ...   \n",
       "1   1                                 aye, jati sampurna   \n",
       "2   2               setu siung 119 rt 5 1 13880 cipayung   \n",
       "3   3                               toko dita, kertosono   \n",
       "4   4                                      jl. orde baru   \n",
       "\n",
       "                                  POI/street        POI  \\\n",
       "0  /jl kapuk timur delta sili iii lippo cika              \n",
       "1                                          /              \n",
       "2                                     /siung              \n",
       "3                                 toko dita/  toko dita   \n",
       "4                             /jl. orde baru              \n",
       "\n",
       "                                     street  \\\n",
       "0  jl kapuk timur delta sili iii lippo cika   \n",
       "1                                             \n",
       "2                                     siung   \n",
       "3                                             \n",
       "4                             jl. orde baru   \n",
       "\n",
       "                            raw_address_numb_removed POI_numb_removed  \\\n",
       "0  jl kapuk timur delta sili iii lippo cika  NUMB...                    \n",
       "1                                 aye, jati sampurna                    \n",
       "2  setu siung  NUMB  rt  NUMB   NUMB   NUMB  cipa...                    \n",
       "3                               toko dita, kertosono        toko dita   \n",
       "4                                      jl. orde baru                    \n",
       "\n",
       "                        street_numb_removed  \\\n",
       "0  jl kapuk timur delta sili iii lippo cika   \n",
       "1                                             \n",
       "2                                     siung   \n",
       "3                                             \n",
       "4                             jl. orde baru   \n",
       "\n",
       "                               raw_address_tokenized   POI_tokenized  \\\n",
       "0  [40092, 84419, 32754, 11100, 68752, 49783, 579...               0   \n",
       "1                       [50685, 63836, 63735, 48193]               0   \n",
       "2  [69481, 28653, 5180, 16208, 5180, 5180, 5180, ...               0   \n",
       "3                       [53037, 62544, 63836, 63005]  [53037, 62544]   \n",
       "4                       [40092, 78385, 34890, 43066]               0   \n",
       "\n",
       "                                    street_tokenized  \n",
       "0  [40092, 84419, 32754, 11100, 68752, 49783, 579...  \n",
       "1                                                  0  \n",
       "2                                            [28653]  \n",
       "3                                                  0  \n",
       "4                       [40092, 78385, 34890, 43066]  "
      ]
     },
     "execution_count": 41,
     "metadata": {},
     "output_type": "execute_result"
    }
   ],
   "source": [
    "train_df.head()"
   ]
  },
  {
   "cell_type": "code",
   "execution_count": 58,
   "metadata": {},
   "outputs": [],
   "source": [
    "# Check if output is exact subset of raw_address. if any of the output is coming from raw_address, return False\n",
    "def check_subset(row, output_col):\n",
    "    try:\n",
    "        raw_address = row['raw_address_tokenized']\n",
    "        res = True\n",
    "        for token in row[output_col]:\n",
    "            if token not in raw_address:\n",
    "                res = False\n",
    "        return res\n",
    "    except:\n",
    "        pass\n",
    "\n",
    "for col in ['POI_tokenized', 'street_tokenized']:\n",
    "    train_df.loc[train_df[col]!=0, col+'_subset'] = train_df.apply(lambda x: check_subset(x, col), axis=1)"
   ]
  },
  {
   "cell_type": "code",
   "execution_count": 67,
   "metadata": {
    "scrolled": true
   },
   "outputs": [
    {
     "name": "stdout",
     "output_type": "stream",
     "text": [
      "True     75381\n",
      "False    46110\n",
      "Name: POI_tokenized_subset, dtype: int64\n",
      "True     213092\n",
      "False     16764\n",
      "Name: street_tokenized_subset, dtype: int64\n"
     ]
    }
   ],
   "source": [
    "print(train_df.POI_tokenized_subset.value_counts())\n",
    "print(train_df.street_tokenized_subset.value_counts())"
   ]
  },
  {
   "cell_type": "markdown",
   "metadata": {},
   "source": [
    "Many POIs are not exact subset of raw_address. Hence, they might be written in the form of abbreviation in raw_address."
   ]
  },
  {
   "cell_type": "markdown",
   "metadata": {},
   "source": [
    "## Split train-valid"
   ]
  },
  {
   "cell_type": "code",
   "execution_count": 17,
   "metadata": {},
   "outputs": [],
   "source": [
    "from sklearn.model_selection import train_test_split\n",
    "\n",
    "train, valid = train_test_split(train_df, test_size=0.2, random_state=42)"
   ]
  },
  {
   "cell_type": "code",
   "execution_count": null,
   "metadata": {},
   "outputs": [],
   "source": []
  },
  {
   "cell_type": "markdown",
   "metadata": {},
   "source": [
    "## Simple model"
   ]
  },
  {
   "cell_type": "code",
   "execution_count": null,
   "metadata": {},
   "outputs": [],
   "source": [
    "from keras.models import Model\n",
    "from keras.layers import Input, LSTM, Dense\n",
    "\n",
    "num_encoder_tokens = len(unique_word_list)\n",
    "num_decoder_tokens = len(unique_word_list)\n",
    "\n",
    "# Define an input sequence and process it.\n",
    "encoder_inputs = Input(shape=(None, num_encoder_tokens))\n",
    "encoder = LSTM(latent_dim, return_state=True)\n",
    "encoder_outputs, state_h, state_c = encoder(encoder_inputs)\n",
    "# We discard `encoder_outputs` and only keep the states.\n",
    "encoder_states = [state_h, state_c]\n",
    "\n",
    "# Set up the decoder, using `encoder_states` as initial state.\n",
    "decoder_inputs = Input(shape=(None, num_decoder_tokens))\n",
    "# We set up our decoder to return full output sequences,\n",
    "# and to return internal states as well. We don't use the \n",
    "# return states in the training model, but we will use them in inference.\n",
    "decoder_lstm = LSTM(latent_dim, return_sequences=True, return_state=True)\n",
    "decoder_outputs, _, _ = decoder_lstm(decoder_inputs,\n",
    "                                     initial_state=encoder_states)\n",
    "decoder_dense = Dense(num_decoder_tokens, activation='softmax')\n",
    "decoder_outputs = decoder_dense(decoder_outputs)\n",
    "\n",
    "# Define the model that will turn\n",
    "# `encoder_input_data` & `decoder_input_data` into `decoder_target_data`\n",
    "model = Model([encoder_inputs, decoder_inputs], decoder_outputs)"
   ]
  }
 ],
 "metadata": {
  "kernelspec": {
   "display_name": "Python [conda env:shopee2021]",
   "language": "python",
   "name": "conda-env-shopee2021-py"
  },
  "language_info": {
   "codemirror_mode": {
    "name": "ipython",
    "version": 3
   },
   "file_extension": ".py",
   "mimetype": "text/x-python",
   "name": "python",
   "nbconvert_exporter": "python",
   "pygments_lexer": "ipython3",
   "version": "3.6.12"
  }
 },
 "nbformat": 4,
 "nbformat_minor": 4
}
