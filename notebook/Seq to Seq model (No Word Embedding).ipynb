{
 "cells": [
  {
   "cell_type": "code",
   "execution_count": 461,
   "metadata": {},
   "outputs": [],
   "source": [
    "# https://blog.keras.io/a-ten-minute-introduction-to-sequence-to-sequence-learning-in-keras.html"
   ]
  },
  {
   "cell_type": "code",
   "execution_count": 169,
   "metadata": {},
   "outputs": [],
   "source": [
    "import matplotlib.pyplot as plt\n",
    "import numpy as np\n",
    "import pandas as pd\n",
    "import seaborn as sns\n",
    "import sys\n",
    "import tensorflow as tf\n",
    "\n",
    "from sklearn.model_selection import train_test_split\n",
    "\n",
    "sys.path.append('..')\n",
    "\n",
    "from src import CustomTokenizer"
   ]
  },
  {
   "cell_type": "code",
   "execution_count": 170,
   "metadata": {},
   "outputs": [
    {
     "name": "stdout",
     "output_type": "stream",
     "text": [
      "(300000, 5)\n"
     ]
    }
   ],
   "source": [
    "train_df = pd.read_csv('../data/train.csv')\n",
    "print(train_df.shape)"
   ]
  },
  {
   "cell_type": "code",
   "execution_count": 210,
   "metadata": {
    "scrolled": false
   },
   "outputs": [
    {
     "data": {
      "text/html": [
       "<div>\n",
       "<style scoped>\n",
       "    .dataframe tbody tr th:only-of-type {\n",
       "        vertical-align: middle;\n",
       "    }\n",
       "\n",
       "    .dataframe tbody tr th {\n",
       "        vertical-align: top;\n",
       "    }\n",
       "\n",
       "    .dataframe thead th {\n",
       "        text-align: right;\n",
       "    }\n",
       "</style>\n",
       "<table border=\"1\" class=\"dataframe\">\n",
       "  <thead>\n",
       "    <tr style=\"text-align: right;\">\n",
       "      <th></th>\n",
       "      <th>id</th>\n",
       "      <th>raw_address</th>\n",
       "      <th>POI/street</th>\n",
       "      <th>POI</th>\n",
       "      <th>street</th>\n",
       "      <th>street_v2</th>\n",
       "    </tr>\n",
       "  </thead>\n",
       "  <tbody>\n",
       "    <tr>\n",
       "      <th>0</th>\n",
       "      <td>0</td>\n",
       "      <td>jl kapuk timur delta sili iii lippo cika 11 a ...</td>\n",
       "      <td>/jl kapuk timur delta sili iii lippo cika</td>\n",
       "      <td></td>\n",
       "      <td>jl kapuk timur delta sili iii lippo cika</td>\n",
       "      <td>START jl kapuk timur delta sili iii lippo cika...</td>\n",
       "    </tr>\n",
       "    <tr>\n",
       "      <th>1</th>\n",
       "      <td>1</td>\n",
       "      <td>aye, jati sampurna</td>\n",
       "      <td>/</td>\n",
       "      <td></td>\n",
       "      <td></td>\n",
       "      <td>START STOP</td>\n",
       "    </tr>\n",
       "    <tr>\n",
       "      <th>2</th>\n",
       "      <td>2</td>\n",
       "      <td>setu siung 119 rt 5 1 13880 cipayung</td>\n",
       "      <td>/siung</td>\n",
       "      <td></td>\n",
       "      <td>siung</td>\n",
       "      <td>START siung STOP</td>\n",
       "    </tr>\n",
       "    <tr>\n",
       "      <th>3</th>\n",
       "      <td>3</td>\n",
       "      <td>toko dita, kertosono</td>\n",
       "      <td>toko dita/</td>\n",
       "      <td>toko dita</td>\n",
       "      <td></td>\n",
       "      <td>START STOP</td>\n",
       "    </tr>\n",
       "    <tr>\n",
       "      <th>4</th>\n",
       "      <td>4</td>\n",
       "      <td>jl. orde baru</td>\n",
       "      <td>/jl. orde baru</td>\n",
       "      <td></td>\n",
       "      <td>jl. orde baru</td>\n",
       "      <td>START jl. orde baru STOP</td>\n",
       "    </tr>\n",
       "  </tbody>\n",
       "</table>\n",
       "</div>"
      ],
      "text/plain": [
       "   id                                        raw_address  \\\n",
       "0   0  jl kapuk timur delta sili iii lippo cika 11 a ...   \n",
       "1   1                                 aye, jati sampurna   \n",
       "2   2               setu siung 119 rt 5 1 13880 cipayung   \n",
       "3   3                               toko dita, kertosono   \n",
       "4   4                                      jl. orde baru   \n",
       "\n",
       "                                  POI/street        POI  \\\n",
       "0  /jl kapuk timur delta sili iii lippo cika              \n",
       "1                                          /              \n",
       "2                                     /siung              \n",
       "3                                 toko dita/  toko dita   \n",
       "4                             /jl. orde baru              \n",
       "\n",
       "                                     street  \\\n",
       "0  jl kapuk timur delta sili iii lippo cika   \n",
       "1                                             \n",
       "2                                     siung   \n",
       "3                                             \n",
       "4                             jl. orde baru   \n",
       "\n",
       "                                           street_v2  \n",
       "0  START jl kapuk timur delta sili iii lippo cika...  \n",
       "1                                         START STOP  \n",
       "2                                   START siung STOP  \n",
       "3                                         START STOP  \n",
       "4                           START jl. orde baru STOP  "
      ]
     },
     "execution_count": 210,
     "metadata": {},
     "output_type": "execute_result"
    }
   ],
   "source": [
    "train_df['POI'] , train_df['street'] = zip(*train_df['POI/street'].str.split(pat='/'))\n",
    "\n",
    "def add_start_stop_token(sentence):\n",
    "    return ('START ' + sentence + ' STOP').replace('  ', ' ')\n",
    "\n",
    "train_df['street_v2'] = train_df['street'].apply(add_start_stop_token)\n",
    "\n",
    "train_df.head()"
   ]
  },
  {
   "cell_type": "code",
   "execution_count": 211,
   "metadata": {},
   "outputs": [
    {
     "data": {
      "text/plain": [
       "178509"
      ]
     },
     "execution_count": 211,
     "metadata": {},
     "output_type": "execute_result"
    }
   ],
   "source": [
    "train_df[train_df['POI']==''].id.count()"
   ]
  },
  {
   "cell_type": "code",
   "execution_count": 212,
   "metadata": {},
   "outputs": [
    {
     "data": {
      "text/plain": [
       "70143"
      ]
     },
     "execution_count": 212,
     "metadata": {},
     "output_type": "execute_result"
    }
   ],
   "source": [
    "train_df[train_df['street']==''].id.count()"
   ]
  },
  {
   "cell_type": "markdown",
   "metadata": {},
   "source": [
    "## Split train-valid"
   ]
  },
  {
   "cell_type": "code",
   "execution_count": 511,
   "metadata": {},
   "outputs": [
    {
     "data": {
      "text/plain": [
       "((5000, 6), (60000, 6))"
      ]
     },
     "execution_count": 511,
     "metadata": {},
     "output_type": "execute_result"
    }
   ],
   "source": [
    "train, valid = train_test_split(train_df, test_size=0.2, random_state=42)\n",
    "train = train.sample(n=5000, random_state=42)\n",
    "train.shape, valid.shape"
   ]
  },
  {
   "cell_type": "markdown",
   "metadata": {},
   "source": [
    "## Tokenize data"
   ]
  },
  {
   "cell_type": "code",
   "execution_count": 512,
   "metadata": {},
   "outputs": [
    {
     "data": {
      "text/plain": [
       "10000"
      ]
     },
     "execution_count": 512,
     "metadata": {},
     "output_type": "execute_result"
    }
   ],
   "source": [
    "texts = train.raw_address.tolist() + train['street_v2'].tolist()\n",
    "len(texts)"
   ]
  },
  {
   "cell_type": "code",
   "execution_count": 513,
   "metadata": {},
   "outputs": [
    {
     "data": {
      "text/plain": [
       "((5000, 50), (5000, 50), (5000, 50), (5000, 50))"
      ]
     },
     "execution_count": 513,
     "metadata": {},
     "output_type": "execute_result"
    }
   ],
   "source": [
    "tokenizer = CustomTokenizer.CustomTokenizer(train_texts = texts)\n",
    "# fit on the train\n",
    "tokenizer.train_tokenize()\n",
    "tokenized_X_train = tokenizer.vectorize_input(train['raw_address'])\n",
    "tokenized_y_train = tokenizer.vectorize_input(train['street_v2'])\n",
    "tokenized_X_valid = tokenizer.vectorize_input(train['raw_address'])\n",
    "tokenized_y_valid = tokenizer.vectorize_input(train['street_v2'])\n",
    "tokenized_X_train.shape, tokenized_y_train.shape, tokenized_X_valid.shape, tokenized_y_valid.shape"
   ]
  },
  {
   "cell_type": "markdown",
   "metadata": {},
   "source": [
    "## Without Word Embedding"
   ]
  },
  {
   "cell_type": "code",
   "execution_count": 514,
   "metadata": {},
   "outputs": [],
   "source": [
    "from keras.models import Model\n",
    "from keras.layers import Input, Embedding, LSTM, Dropout, Dense\n",
    "from keras.utils import to_categorical"
   ]
  },
  {
   "cell_type": "code",
   "execution_count": 515,
   "metadata": {},
   "outputs": [
    {
     "data": {
      "text/plain": [
       "(8883, 8883)"
      ]
     },
     "execution_count": 515,
     "metadata": {},
     "output_type": "execute_result"
    }
   ],
   "source": [
    "num_encoder_tokens = len(tokenizer.tokenizer.word_index)+1\n",
    "num_decoder_tokens = len(tokenizer.tokenizer.word_index)+1\n",
    "latent_dim = 64\n",
    "batch_size = 256\n",
    "epochs = 20\n",
    "num_encoder_tokens, num_decoder_tokens"
   ]
  },
  {
   "cell_type": "code",
   "execution_count": 516,
   "metadata": {},
   "outputs": [
    {
     "data": {
      "text/plain": [
       "((5000, 50), (5000, 49), (5000, 49, 8883))"
      ]
     },
     "execution_count": 516,
     "metadata": {},
     "output_type": "execute_result"
    }
   ],
   "source": [
    "encoder_input_data = tokenized_X_train\n",
    "decoder_input_data = tokenized_y_train[:, :-1]\n",
    "decoder_target_data = to_categorical(tokenized_y_train[:, 1:], num_classes = num_decoder_tokens)\n",
    "\n",
    "# records, max_seq_len = decoder_target_data.shape\n",
    "# new_decoder_target_data = np.zeros((records, max_seq_len, num_decoder_tokens))\n",
    "# for row in range(records):\n",
    "#     for col in range(max_seq_len):\n",
    "#         idx = decoder_target_data[row, col]\n",
    "#         new_decoder_target_data[row, col, idx] = 1        \n",
    "# decoder_target_data = new_decoder_target_data\n",
    "\n",
    "encoder_input_data.shape, decoder_input_data.shape, decoder_target_data.shape"
   ]
  },
  {
   "cell_type": "code",
   "execution_count": 517,
   "metadata": {},
   "outputs": [
    {
     "name": "stdout",
     "output_type": "stream",
     "text": [
      "Model: \"encoder_decoder\"\n",
      "__________________________________________________________________________________________________\n",
      "Layer (type)                    Output Shape         Param #     Connected to                     \n",
      "==================================================================================================\n",
      "encoder_inputs (InputLayer)     [(None, None)]       0                                            \n",
      "__________________________________________________________________________________________________\n",
      "decoder_inputs (InputLayer)     [(None, None)]       0                                            \n",
      "__________________________________________________________________________________________________\n",
      "encoder_embedding (Embedding)   (None, None, 64)     568512      encoder_inputs[0][0]             \n",
      "__________________________________________________________________________________________________\n",
      "decoder_embedding (Embedding)   (None, None, 64)     568512      decoder_inputs[0][0]             \n",
      "__________________________________________________________________________________________________\n",
      "encoder_lstm (LSTM)             [(None, 64), (None,  33024       encoder_embedding[0][0]          \n",
      "__________________________________________________________________________________________________\n",
      "decoder_lstm (LSTM)             [(None, None, 64), ( 33024       decoder_embedding[0][0]          \n",
      "                                                                 encoder_lstm[0][1]               \n",
      "                                                                 encoder_lstm[0][2]               \n",
      "__________________________________________________________________________________________________\n",
      "dense (Dense)                   (None, None, 8883)   577395      decoder_lstm[0][0]               \n",
      "==================================================================================================\n",
      "Total params: 1,780,467\n",
      "Trainable params: 1,780,467\n",
      "Non-trainable params: 0\n",
      "__________________________________________________________________________________________________\n",
      "None\n"
     ]
    }
   ],
   "source": [
    "# Define an input sequence and process it.\n",
    "encoder_inputs = Input(shape=(None, ), name='encoder_inputs')\n",
    "encoder_embedding = Embedding(num_encoder_tokens, latent_dim, name='encoder_embedding')(encoder_inputs)\n",
    "encoder_lstm = LSTM(latent_dim, return_state=True, name='encoder_lstm')\n",
    "encoder_outputs, state_h, state_c = encoder_lstm(encoder_embedding)\n",
    "\n",
    "encoder_states = [state_h, state_c]\n",
    "\n",
    "# Set up the decoder, using `encoder_states` as initial state.\n",
    "decoder_inputs = Input(shape=(None,), name='decoder_inputs')\n",
    "decoder_embedding = Embedding(num_decoder_tokens, latent_dim, name='decoder_embedding')(decoder_inputs)\n",
    "decoder_lstm = LSTM(latent_dim, return_state=True, return_sequences=True, name='decoder_lstm')\n",
    "decoder_outputs, _, _ = decoder_lstm(decoder_embedding, initial_state=encoder_states)\n",
    "\n",
    "decoder_dense = Dense(num_decoder_tokens, activation='softmax', name='dense')\n",
    "decoder_outputs = decoder_dense(decoder_outputs)\n",
    "\n",
    "# Define the model that will turn\n",
    "# `encoder_input_data` & `decoder_input_data` into `decoder_target_data`\n",
    "model = Model([encoder_inputs, decoder_inputs], decoder_outputs, name='encoder_decoder')\n",
    "\n",
    "print(model.summary())"
   ]
  },
  {
   "cell_type": "code",
   "execution_count": 518,
   "metadata": {},
   "outputs": [
    {
     "name": "stdout",
     "output_type": "stream",
     "text": [
      "Epoch 1/20\n",
      "16/16 [==============================] - 25s 1s/step - loss: 8.4501 - val_loss: 5.5215\n",
      "Epoch 2/20\n",
      "16/16 [==============================] - 20s 1s/step - loss: 4.8217 - val_loss: 2.9716\n",
      "Epoch 3/20\n",
      "16/16 [==============================] - 18s 1s/step - loss: 2.5105 - val_loss: 1.3711\n",
      "Epoch 4/20\n",
      "16/16 [==============================] - 19s 1s/step - loss: 1.1712 - val_loss: 0.7308\n",
      "Epoch 5/20\n",
      "16/16 [==============================] - 19s 1s/step - loss: 0.6648 - val_loss: 0.5162\n",
      "Epoch 6/20\n",
      "16/16 [==============================] - 23s 1s/step - loss: 0.4895 - val_loss: 0.4237\n",
      "Epoch 7/20\n",
      "16/16 [==============================] - 30s 2s/step - loss: 0.4122 - val_loss: 0.3758\n",
      "Epoch 8/20\n",
      "16/16 [==============================] - 22s 1s/step - loss: 0.3658 - val_loss: 0.3483\n",
      "Epoch 9/20\n",
      "16/16 [==============================] - 19s 1s/step - loss: 0.3348 - val_loss: 0.3291\n",
      "Epoch 10/20\n",
      "16/16 [==============================] - 20s 1s/step - loss: 0.3112 - val_loss: 0.3166\n",
      "Epoch 11/20\n",
      "16/16 [==============================] - 20s 1s/step - loss: 0.3004 - val_loss: 0.3081\n",
      "Epoch 12/20\n",
      "16/16 [==============================] - 20s 1s/step - loss: 0.2849 - val_loss: 0.3036\n",
      "Epoch 13/20\n",
      "16/16 [==============================] - 19s 1s/step - loss: 0.2792 - val_loss: 0.3006\n",
      "Epoch 14/20\n",
      "16/16 [==============================] - 20s 1s/step - loss: 0.2741 - val_loss: 0.3012\n",
      "Epoch 15/20\n",
      "16/16 [==============================] - 20s 1s/step - loss: 0.2686 - val_loss: 0.2992\n",
      "Epoch 16/20\n",
      "16/16 [==============================] - 20s 1s/step - loss: 0.2651 - val_loss: 0.3000\n",
      "Epoch 17/20\n",
      "16/16 [==============================] - 19s 1s/step - loss: 0.2668 - val_loss: 0.2995\n",
      "Epoch 18/20\n",
      "16/16 [==============================] - 20s 1s/step - loss: 0.2620 - val_loss: 0.2998\n",
      "Epoch 19/20\n",
      "16/16 [==============================] - 21s 1s/step - loss: 0.2618 - val_loss: 0.3000\n",
      "Epoch 20/20\n",
      "16/16 [==============================] - 18s 1s/step - loss: 0.2599 - val_loss: 0.3012\n"
     ]
    }
   ],
   "source": [
    "# Compile & run training\n",
    "model.compile(optimizer='rmsprop', loss='categorical_crossentropy')\n",
    "# Note that `decoder_target_data` needs to be one-hot encoded,\n",
    "# rather than sequences of integers like `decoder_input_data`!\n",
    "history = model.fit(\n",
    "    [encoder_input_data, decoder_input_data], \n",
    "    decoder_target_data,\n",
    "    batch_size = batch_size,\n",
    "    epochs = epochs,\n",
    "    validation_split = 0.2\n",
    ")"
   ]
  },
  {
   "cell_type": "code",
   "execution_count": 526,
   "metadata": {},
   "outputs": [
    {
     "data": {
      "image/png": "[encoded data removed]",
      "text/plain": [
       "<Figure size 432x288 with 1 Axes>"
      ]
     },
     "metadata": {
      "needs_background": "light"
     },
     "output_type": "display_data"
    }
   ],
   "source": [
    "# summarize history for loss\n",
    "plt.plot(history.history['loss'])\n",
    "plt.plot(history.history['val_loss'])\n",
    "plt.title('model loss')\n",
    "plt.ylabel('loss')\n",
    "plt.xlabel('epoch')\n",
    "plt.legend(['train', 'test'], loc='upper left')\n",
    "plt.show()"
   ]
  },
  {
   "cell_type": "markdown",
   "metadata": {},
   "source": [
    "# Inference"
   ]
  },
  {
   "cell_type": "code",
   "execution_count": 543,
   "metadata": {
    "scrolled": false
   },
   "outputs": [],
   "source": [
    "encoder_model = Model(encoder_inputs, encoder_states, name='encoder_model')\n",
    "\n",
    "decoder_state_input_h = Input(shape=(latent_dim,), name='decoder_state_input_h')\n",
    "decoder_state_input_c = Input(shape=(latent_dim,), name='decoder_state_input_c')\n",
    "decoder_states_inputs = [decoder_state_input_h, decoder_state_input_c]\n",
    "decoder_outputs, state_h, state_c = decoder_lstm(decoder_embedding, initial_state=decoder_states_inputs)\n",
    "decoder_states = [state_h, state_c]\n",
    "decoder_outputs = decoder_dense(decoder_outputs)\n",
    "decoder_model = Model([decoder_inputs] + decoder_states_inputs, [decoder_outputs] + decoder_states, name='decoder_model')"
   ]
  },
  {
   "cell_type": "code",
   "execution_count": 544,
   "metadata": {},
   "outputs": [
    {
     "name": "stdout",
     "output_type": "stream",
     "text": [
      "Model: \"encoder_model\"\n",
      "_________________________________________________________________\n",
      "Layer (type)                 Output Shape              Param #   \n",
      "=================================================================\n",
      "encoder_inputs (InputLayer)  [(None, None)]            0         \n",
      "_________________________________________________________________\n",
      "encoder_embedding (Embedding (None, None, 64)          568512    \n",
      "_________________________________________________________________\n",
      "encoder_lstm (LSTM)          [(None, 64), (None, 64),  33024     \n",
      "=================================================================\n",
      "Total params: 601,536\n",
      "Trainable params: 601,536\n",
      "Non-trainable params: 0\n",
      "_________________________________________________________________\n"
     ]
    }
   ],
   "source": [
    "encoder_model.summary()"
   ]
  },
  {
   "cell_type": "code",
   "execution_count": 545,
   "metadata": {},
   "outputs": [
    {
     "name": "stdout",
     "output_type": "stream",
     "text": [
      "Model: \"decoder_model\"\n",
      "__________________________________________________________________________________________________\n",
      "Layer (type)                    Output Shape         Param #     Connected to                     \n",
      "==================================================================================================\n",
      "decoder_inputs (InputLayer)     [(None, None)]       0                                            \n",
      "__________________________________________________________________________________________________\n",
      "decoder_embedding (Embedding)   (None, None, 64)     568512      decoder_inputs[0][0]             \n",
      "__________________________________________________________________________________________________\n",
      "decoder_state_input_h (InputLay [(None, 64)]         0                                            \n",
      "__________________________________________________________________________________________________\n",
      "decoder_state_input_c (InputLay [(None, 64)]         0                                            \n",
      "__________________________________________________________________________________________________\n",
      "decoder_lstm (LSTM)             [(None, None, 64), ( 33024       decoder_embedding[0][0]          \n",
      "                                                                 decoder_state_input_h[0][0]      \n",
      "                                                                 decoder_state_input_c[0][0]      \n",
      "__________________________________________________________________________________________________\n",
      "dense (Dense)                   (None, None, 8883)   577395      decoder_lstm[3][0]               \n",
      "==================================================================================================\n",
      "Total params: 1,178,931\n",
      "Trainable params: 1,178,931\n",
      "Non-trainable params: 0\n",
      "__________________________________________________________________________________________________\n"
     ]
    }
   ],
   "source": [
    "decoder_model.summary()"
   ]
  },
  {
   "cell_type": "code",
   "execution_count": 546,
   "metadata": {},
   "outputs": [],
   "source": [
    "target_token_index = tokenizer.tokenizer.word_index\n",
    "reverse_target_char_index = {v:k for k,v in target_token_index.items()}\n",
    "max_decoder_seq_length = decoder_target_data.shape[1]"
   ]
  },
  {
   "cell_type": "code",
   "execution_count": 547,
   "metadata": {},
   "outputs": [],
   "source": [
    "def decode_sequence(input_seq):\n",
    "    # Encode the input as state vectors.\n",
    "    states_value = encoder_model.predict(input_seq)\n",
    "\n",
    "    # Generate empty target sequence of length 1.\n",
    "    target_seq = np.zeros((1, 1))\n",
    "    # Populate the first character of target sequence with the start character.    \n",
    "    target_seq[:, :] = target_token_index['start']                    \n",
    "\n",
    "    # Sampling loop for a batch of sequences\n",
    "    # (to simplify, here we assume a batch of size 1).\n",
    "    stop_condition = False\n",
    "    decoded_sentence = ''\n",
    "    while not stop_condition:\n",
    "        output_tokens, h, c = decoder_model.predict([target_seq] + states_value)\n",
    "        \n",
    "        # Sample a token\n",
    "        sampled_token_index = np.argmax(output_tokens[0, -1, :])\n",
    "        if sampled_token_index == 0:\n",
    "            sampled_char = 'stop'\n",
    "        else:\n",
    "            sampled_char = reverse_target_char_index[sampled_token_index]\n",
    "            \n",
    "        decoded_sentence += sampled_char + ' '\n",
    "\n",
    "        # Exit condition: either hit max length\n",
    "        # or find stop character.\n",
    "        if (sampled_char == 'stop' or len(decoded_sentence) > max_decoder_seq_length):\n",
    "            stop_condition = True\n",
    "\n",
    "        # Update the target sequence (of length 1).        \n",
    "        target_seq = np.zeros((input_seq.shape[0], 1))\n",
    "        target_seq[:, :] = sampled_token_index     \n",
    "\n",
    "        # Update states\n",
    "        states_value = [h, c]\n",
    "\n",
    "    return decoded_sentence.strip()"
   ]
  },
  {
   "cell_type": "code",
   "execution_count": 548,
   "metadata": {
    "scrolled": false
   },
   "outputs": [
    {
     "name": "stdout",
     "output_type": "stream",
     "text": [
      "stop\n",
      "stop\n",
      "stop\n",
      "stop\n",
      "stop\n"
     ]
    }
   ],
   "source": [
    "for i in range(5):\n",
    "    input_seq = tokenized_X_train[i:i+1, :]\n",
    "    output_seq = decode_sequence(input_seq)\n",
    "    print(output_seq)"
   ]
  },
  {
   "cell_type": "code",
   "execution_count": null,
   "metadata": {},
   "outputs": [],
   "source": []
  }
 ],
 "metadata": {
  "kernelspec": {
   "display_name": "Python 3",
   "language": "python",
   "name": "python3"
  },
  "language_info": {
   "codemirror_mode": {
    "name": "ipython",
    "version": 3
   },
   "file_extension": ".py",
   "mimetype": "text/x-python",
   "name": "python",
   "nbconvert_exporter": "python",
   "pygments_lexer": "ipython3",
   "version": "3.7.6"
  }
 },
 "nbformat": 4,
 "nbformat_minor": 4
}
