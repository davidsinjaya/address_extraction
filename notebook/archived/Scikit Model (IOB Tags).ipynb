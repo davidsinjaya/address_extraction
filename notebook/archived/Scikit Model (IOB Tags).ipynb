{
 "cells": [
  {
   "cell_type": "markdown",
   "metadata": {},
   "source": [
    "# Packages"
   ]
  },
  {
   "cell_type": "code",
   "execution_count": 1,
   "metadata": {},
   "outputs": [],
   "source": [
    "import numpy as np\n",
    "import pandas as pd\n",
    "import string\n",
    "import sys"
   ]
  },
  {
   "cell_type": "code",
   "execution_count": 2,
   "metadata": {},
   "outputs": [],
   "source": [
    "from gensim.models import Word2Vec\n",
    "from sklearn.ensemble import RandomForestClassifier\n",
    "from sklearn.feature_extraction import DictVectorizer\n",
    "from sklearn.feature_selection import SelectKBest\n",
    "from sklearn.metrics import accuracy_score\n",
    "from sklearn.model_selection import train_test_split, RandomizedSearchCV\n",
    "from sklearn.naive_bayes import MultinomialNB\n",
    "from sklearn.pipeline import Pipeline\n",
    "from sklearn.tree import DecisionTreeClassifier"
   ]
  },
  {
   "cell_type": "code",
   "execution_count": 3,
   "metadata": {},
   "outputs": [],
   "source": [
    "%load_ext autoreload\n",
    "%autoreload 2\n",
    "\n",
    "sys.path.append('..')\n",
    "\n",
    "from src.data import raw_to_tokens, tokens_to_tagged, tagged_to_tokens, tagged_to_poi_street\n",
    "from src.models.scikit_classifier import ScikitClassifier"
   ]
  },
  {
   "cell_type": "markdown",
   "metadata": {},
   "source": [
    "# Import Word2Vec"
   ]
  },
  {
   "cell_type": "code",
   "execution_count": 4,
   "metadata": {},
   "outputs": [],
   "source": [
    "w2v = Word2Vec.load('../data/id/id.bin')"
   ]
  },
  {
   "cell_type": "markdown",
   "metadata": {},
   "source": [
    "# Import Training Data"
   ]
  },
  {
   "cell_type": "code",
   "execution_count": 9,
   "metadata": {},
   "outputs": [],
   "source": [
    "def tagged_to_iob(tagged):\n",
    "    \"\"\"\n",
    "    `annotated_sentence` = list of triplets [(w1, iob1), ...]\n",
    "    Transform a pseudo-IOB notation: O, PERSON, PERSON, O, O, LOCATION, O\n",
    "    to proper IOB notation: O, B-PERSON, I-PERSON, O, O, B-LOCATION, O\n",
    "    \"\"\"\n",
    "    iob_tagged = []\n",
    "    for idx, (word, ner) in enumerate(tagged): \n",
    "        if ner != 'OTHER':\n",
    "            if idx == 0:\n",
    "                ner = \"B-\" + ner\n",
    "            elif tagged[idx-1][1] == ner:\n",
    "                ner = \"I-\" + ner\n",
    "            else:\n",
    "                ner = \"B-\" + ner\n",
    "        else:\n",
    "            ner = 'O'\n",
    "        iob_tagged.append((word, ner))\n",
    "    return iob_tagged\n",
    "\n",
    "def iob_to_tagged(iob_tagged):\n",
    "    tagged = []\n",
    "    for word, ner in iob_tagged:\n",
    "        if '-' in ner:\n",
    "            tagged.append((word, ner.split('-')[1]))\n",
    "        else:\n",
    "            tagged.append((word, 'OTHER'))\n",
    "    return tagged"
   ]
  },
  {
   "cell_type": "code",
   "execution_count": 10,
   "metadata": {},
   "outputs": [],
   "source": [
    "df = pd.read_csv('../data/train.csv').set_index('id')\n",
    "df['poi'], df['street'] = zip(*df['POI/street'].str.split('/'))\n",
    "df['raw_tokens'] = df['raw_address'].apply(raw_to_tokens)\n",
    "df['poi_tokens'] = df['poi'].apply(raw_to_tokens)\n",
    "df['street_tokens'] = df['street'].apply(raw_to_tokens)\n",
    "df['tagged_tokens'] = df.apply(lambda r: tokens_to_tagged(r.raw_tokens, r.poi_tokens, r.street_tokens), axis=1)\n",
    "df['iob_tokens'] = df['tagged_tokens'].apply(tagged_to_iob)"
   ]
  },
  {
   "cell_type": "code",
   "execution_count": 11,
   "metadata": {},
   "outputs": [
    {
     "data": {
      "text/html": [
       "<div>\n",
       "<style scoped>\n",
       "    .dataframe tbody tr th:only-of-type {\n",
       "        vertical-align: middle;\n",
       "    }\n",
       "\n",
       "    .dataframe tbody tr th {\n",
       "        vertical-align: top;\n",
       "    }\n",
       "\n",
       "    .dataframe thead th {\n",
       "        text-align: right;\n",
       "    }\n",
       "</style>\n",
       "<table border=\"1\" class=\"dataframe\">\n",
       "  <thead>\n",
       "    <tr style=\"text-align: right;\">\n",
       "      <th></th>\n",
       "      <th>raw_address</th>\n",
       "      <th>POI/street</th>\n",
       "      <th>poi</th>\n",
       "      <th>street</th>\n",
       "      <th>raw_tokens</th>\n",
       "      <th>poi_tokens</th>\n",
       "      <th>street_tokens</th>\n",
       "      <th>tagged_tokens</th>\n",
       "      <th>iob_tokens</th>\n",
       "    </tr>\n",
       "    <tr>\n",
       "      <th>id</th>\n",
       "      <th></th>\n",
       "      <th></th>\n",
       "      <th></th>\n",
       "      <th></th>\n",
       "      <th></th>\n",
       "      <th></th>\n",
       "      <th></th>\n",
       "      <th></th>\n",
       "      <th></th>\n",
       "    </tr>\n",
       "  </thead>\n",
       "  <tbody>\n",
       "    <tr>\n",
       "      <th>218317</th>\n",
       "      <td>giri jati, pasir endah ujung berung</td>\n",
       "      <td>/giri jati</td>\n",
       "      <td></td>\n",
       "      <td>giri jati</td>\n",
       "      <td>[giri, jati,, pasir, endah, ujung, berung]</td>\n",
       "      <td>[]</td>\n",
       "      <td>[giri, jati]</td>\n",
       "      <td>[(giri, STREET), (jati,, OTHER), (pasir, OTHER...</td>\n",
       "      <td>[(giri, B-STREET), (jati,, O), (pasir, O), (en...</td>\n",
       "    </tr>\n",
       "    <tr>\n",
       "      <th>93091</th>\n",
       "      <td>petukangan utara cile raya 17 rt 1 rw 6 12260 ...</td>\n",
       "      <td>/cile raya</td>\n",
       "      <td></td>\n",
       "      <td>cile raya</td>\n",
       "      <td>[petukangan, utara, cile, raya, 17, rt, 1, rw,...</td>\n",
       "      <td>[]</td>\n",
       "      <td>[cile, raya]</td>\n",
       "      <td>[(petukangan, OTHER), (utara, OTHER), (cile, S...</td>\n",
       "      <td>[(petukangan, O), (utara, O), (cile, B-STREET)...</td>\n",
       "    </tr>\n",
       "    <tr>\n",
       "      <th>277299</th>\n",
       "      <td>mata iii, 256 mekar jaya sukmajaya</td>\n",
       "      <td>/mata iii</td>\n",
       "      <td></td>\n",
       "      <td>mata iii</td>\n",
       "      <td>[mata, iii,, 256, mekar, jaya, sukmajaya]</td>\n",
       "      <td>[]</td>\n",
       "      <td>[mata, iii]</td>\n",
       "      <td>[(mata, STREET), (iii,, OTHER), (256, OTHER), ...</td>\n",
       "      <td>[(mata, B-STREET), (iii,, O), (256, O), (mekar...</td>\n",
       "    </tr>\n",
       "    <tr>\n",
       "      <th>34261</th>\n",
       "      <td>bet jaya 46 rt 7 14 tugu utara koja</td>\n",
       "      <td>/</td>\n",
       "      <td></td>\n",
       "      <td></td>\n",
       "      <td>[bet, jaya, 46, rt, 7, 14, tugu, utara, koja]</td>\n",
       "      <td>[]</td>\n",
       "      <td>[]</td>\n",
       "      <td>[(bet, OTHER), (jaya, OTHER), (46, OTHER), (rt...</td>\n",
       "      <td>[(bet, O), (jaya, O), (46, O), (rt, O), (7, O)...</td>\n",
       "    </tr>\n",
       "    <tr>\n",
       "      <th>12492</th>\n",
       "      <td>nerada estate blok a6 15</td>\n",
       "      <td>nerada estate/</td>\n",
       "      <td>nerada estate</td>\n",
       "      <td></td>\n",
       "      <td>[nerada, estate, blok, a6, 15]</td>\n",
       "      <td>[nerada, estate]</td>\n",
       "      <td>[]</td>\n",
       "      <td>[(nerada, POI), (estate, POI), (blok, OTHER), ...</td>\n",
       "      <td>[(nerada, B-POI), (estate, I-POI), (blok, O), ...</td>\n",
       "    </tr>\n",
       "  </tbody>\n",
       "</table>\n",
       "</div>"
      ],
      "text/plain": [
       "                                              raw_address      POI/street  \\\n",
       "id                                                                          \n",
       "218317                giri jati, pasir endah ujung berung      /giri jati   \n",
       "93091   petukangan utara cile raya 17 rt 1 rw 6 12260 ...      /cile raya   \n",
       "277299                 mata iii, 256 mekar jaya sukmajaya       /mata iii   \n",
       "34261                 bet jaya 46 rt 7 14 tugu utara koja               /   \n",
       "12492                            nerada estate blok a6 15  nerada estate/   \n",
       "\n",
       "                  poi     street  \\\n",
       "id                                 \n",
       "218317                 giri jati   \n",
       "93091                  cile raya   \n",
       "277299                  mata iii   \n",
       "34261                              \n",
       "12492   nerada estate              \n",
       "\n",
       "                                               raw_tokens        poi_tokens  \\\n",
       "id                                                                            \n",
       "218317         [giri, jati,, pasir, endah, ujung, berung]                []   \n",
       "93091   [petukangan, utara, cile, raya, 17, rt, 1, rw,...                []   \n",
       "277299          [mata, iii,, 256, mekar, jaya, sukmajaya]                []   \n",
       "34261       [bet, jaya, 46, rt, 7, 14, tugu, utara, koja]                []   \n",
       "12492                      [nerada, estate, blok, a6, 15]  [nerada, estate]   \n",
       "\n",
       "       street_tokens                                      tagged_tokens  \\\n",
       "id                                                                        \n",
       "218317  [giri, jati]  [(giri, STREET), (jati,, OTHER), (pasir, OTHER...   \n",
       "93091   [cile, raya]  [(petukangan, OTHER), (utara, OTHER), (cile, S...   \n",
       "277299   [mata, iii]  [(mata, STREET), (iii,, OTHER), (256, OTHER), ...   \n",
       "34261             []  [(bet, OTHER), (jaya, OTHER), (46, OTHER), (rt...   \n",
       "12492             []  [(nerada, POI), (estate, POI), (blok, OTHER), ...   \n",
       "\n",
       "                                               iob_tokens  \n",
       "id                                                         \n",
       "218317  [(giri, B-STREET), (jati,, O), (pasir, O), (en...  \n",
       "93091   [(petukangan, O), (utara, O), (cile, B-STREET)...  \n",
       "277299  [(mata, B-STREET), (iii,, O), (256, O), (mekar...  \n",
       "34261   [(bet, O), (jaya, O), (46, O), (rt, O), (7, O)...  \n",
       "12492   [(nerada, B-POI), (estate, I-POI), (blok, O), ...  "
      ]
     },
     "execution_count": 11,
     "metadata": {},
     "output_type": "execute_result"
    }
   ],
   "source": [
    "df.sample(n=5)"
   ]
  },
  {
   "cell_type": "markdown",
   "metadata": {},
   "source": [
    "# Train Valid Split"
   ]
  },
  {
   "cell_type": "code",
   "execution_count": 12,
   "metadata": {},
   "outputs": [
    {
     "data": {
      "text/plain": [
       "((240000, 9), (60000, 9))"
      ]
     },
     "execution_count": 12,
     "metadata": {},
     "output_type": "execute_result"
    }
   ],
   "source": [
    "train_df, valid_df = train_test_split(df, test_size=0.2, random_state=42)\n",
    "train_df.shape, valid_df.shape"
   ]
  },
  {
   "cell_type": "markdown",
   "metadata": {},
   "source": [
    "# 1. Train Random Forest with IOB Tokens (Without Word Embedding)"
   ]
  },
  {
   "cell_type": "code",
   "execution_count": 5,
   "metadata": {},
   "outputs": [
    {
     "name": "stdout",
     "output_type": "stream",
     "text": [
      "CPU times: user 158 µs, sys: 7 µs, total: 165 µs\n",
      "Wall time: 169 µs\n"
     ]
    }
   ],
   "source": [
    "%%time\n",
    "pipeline_1 = Pipeline([\n",
    "    ('vectorizer', DictVectorizer()),\n",
    "    ('classifier', RandomForestClassifier(random_state=42))\n",
    "])\n",
    "\n",
    "params_1 = {\n",
    "    'classifier__n_estimators': [100, 200, 300],\n",
    "    'classifier__max_depth': [5, 10, 15, 20, 25],\n",
    "    'classifier__min_samples_split': [2, 4, 8, 16, 32],\n",
    "    'classifier__min_samples_leaf': [1, 10, 100],\n",
    "}\n",
    "\n",
    "search_1 = RandomizedSearchCV(\n",
    "    estimator = pipeline_1,\n",
    "    param_distributions = params_1,\n",
    "    n_iter = 10,\n",
    "    n_jobs = -1,\n",
    "    refit = True,\n",
    "    random_state = 42,\n",
    ")\n",
    "\n",
    "model_1 = ScikitClassifier(search = search_1)"
   ]
  },
  {
   "cell_type": "code",
   "execution_count": 10,
   "metadata": {},
   "outputs": [
    {
     "name": "stdout",
     "output_type": "stream",
     "text": [
      "CPU times: user 26.5 s, sys: 309 ms, total: 26.8 s\n",
      "Wall time: 27 s\n"
     ]
    }
   ],
   "source": [
    "%%time\n",
    "model_1.transform(train_df['iob_tokens']) #.sample(n=100, random_state=42))"
   ]
  },
  {
   "cell_type": "code",
   "execution_count": 11,
   "metadata": {},
   "outputs": [
    {
     "name": "stderr",
     "output_type": "stream",
     "text": [
      "/Users/user/personal/address_extraction/venv/lib/python3.7/site-packages/joblib/externals/loky/process_executor.py:691: UserWarning: A worker stopped while some jobs were given to the executor. This can be caused by a too short worker timeout or by a memory leak.\n",
      "  \"timeout or by a memory leak.\", UserWarning\n"
     ]
    },
    {
     "name": "stdout",
     "output_type": "stream",
     "text": [
      "CPU times: user 59min 33s, sys: 59.4 s, total: 1h 33s\n",
      "Wall time: 1h 2min 35s\n"
     ]
    },
    {
     "data": {
      "text/plain": [
       "Pipeline(steps=[('vectorizer', DictVectorizer()),\n",
       "                ('classifier',\n",
       "                 RandomForestClassifier(max_depth=5, min_samples_split=16,\n",
       "                                        random_state=42))])"
      ]
     },
     "execution_count": 11,
     "metadata": {},
     "output_type": "execute_result"
    }
   ],
   "source": [
    "%%time\n",
    "model_1.fit()\n",
    "model_1.clf"
   ]
  },
  {
   "cell_type": "code",
   "execution_count": 12,
   "metadata": {},
   "outputs": [],
   "source": [
    "model_1.save_model('../model/scikit_rf_iob.joblib')"
   ]
  },
  {
   "cell_type": "code",
   "execution_count": 6,
   "metadata": {},
   "outputs": [],
   "source": [
    "model_1.load_model('../model/scikit_rf_iob.joblib')"
   ]
  },
  {
   "cell_type": "code",
   "execution_count": 7,
   "metadata": {},
   "outputs": [
    {
     "data": {
      "text/html": [
       "<div>\n",
       "<style scoped>\n",
       "    .dataframe tbody tr th:only-of-type {\n",
       "        vertical-align: middle;\n",
       "    }\n",
       "\n",
       "    .dataframe tbody tr th {\n",
       "        vertical-align: top;\n",
       "    }\n",
       "\n",
       "    .dataframe thead th {\n",
       "        text-align: right;\n",
       "    }\n",
       "</style>\n",
       "<table border=\"1\" class=\"dataframe\">\n",
       "  <thead>\n",
       "    <tr style=\"text-align: right;\">\n",
       "      <th></th>\n",
       "      <th>importance</th>\n",
       "    </tr>\n",
       "  </thead>\n",
       "  <tbody>\n",
       "    <tr>\n",
       "      <th>prev-iob=I-STREET</th>\n",
       "      <td>0.023631</td>\n",
       "    </tr>\n",
       "    <tr>\n",
       "      <th>prev-word=raya</th>\n",
       "      <td>0.021873</td>\n",
       "    </tr>\n",
       "    <tr>\n",
       "      <th>word=haji</th>\n",
       "      <td>0.020590</td>\n",
       "    </tr>\n",
       "    <tr>\n",
       "      <th>prev-word=__START1__</th>\n",
       "      <td>0.019358</td>\n",
       "    </tr>\n",
       "    <tr>\n",
       "      <th>shape=ending-dot</th>\n",
       "      <td>0.016781</td>\n",
       "    </tr>\n",
       "    <tr>\n",
       "      <th>word=5</th>\n",
       "      <td>0.016392</td>\n",
       "    </tr>\n",
       "    <tr>\n",
       "      <th>word=jl.</th>\n",
       "      <td>0.016167</td>\n",
       "    </tr>\n",
       "    <tr>\n",
       "      <th>shape=other</th>\n",
       "      <td>0.013420</td>\n",
       "    </tr>\n",
       "    <tr>\n",
       "      <th>word=gg.</th>\n",
       "      <td>0.013408</td>\n",
       "    </tr>\n",
       "    <tr>\n",
       "      <th>prev-shape=lowercase</th>\n",
       "      <td>0.013188</td>\n",
       "    </tr>\n",
       "  </tbody>\n",
       "</table>\n",
       "</div>"
      ],
      "text/plain": [
       "                      importance\n",
       "prev-iob=I-STREET       0.023631\n",
       "prev-word=raya          0.021873\n",
       "word=haji               0.020590\n",
       "prev-word=__START1__    0.019358\n",
       "shape=ending-dot        0.016781\n",
       "word=5                  0.016392\n",
       "word=jl.                0.016167\n",
       "shape=other             0.013420\n",
       "word=gg.                0.013408\n",
       "prev-shape=lowercase    0.013188"
      ]
     },
     "execution_count": 7,
     "metadata": {},
     "output_type": "execute_result"
    }
   ],
   "source": [
    "pd.DataFrame({\n",
    "    'importance': model_1.clf['classifier'].feature_importances_,\n",
    "}, index = model_1.clf['vectorizer'].feature_names_).sort_values('importance', ascending=False).head(10)"
   ]
  },
  {
   "cell_type": "code",
   "execution_count": 13,
   "metadata": {},
   "outputs": [
    {
     "name": "stdout",
     "output_type": "stream",
     "text": [
      "CPU times: user 2.49 s, sys: 320 ms, total: 2.81 s\n",
      "Wall time: 10.7 s\n"
     ]
    },
    {
     "data": {
      "text/plain": [
       "0.13"
      ]
     },
     "execution_count": 13,
     "metadata": {},
     "output_type": "execute_result"
    }
   ],
   "source": [
    "%%time\n",
    "pred_df = valid_df.sample(n=100, random_state=42).copy()\n",
    "pred_df['pred_iob'] = model_1.parallelize_predict(pred_df['raw_tokens'])\n",
    "pred_df['pred_tagged'] = pred_df['pred_iob'].apply(iob_to_tagged)\n",
    "pred_df['pred_POI/street'] = pred_df['pred_tagged'].apply(tagged_to_poi_street)\n",
    "accuracy_score(y_true = pred_df['POI/street'], y_pred = pred_df['pred_POI/street'])"
   ]
  },
  {
   "cell_type": "markdown",
   "metadata": {},
   "source": [
    "# 2. Train Random Forest with IOB Tags (With Word Embedding)"
   ]
  },
  {
   "cell_type": "code",
   "execution_count": 14,
   "metadata": {},
   "outputs": [
    {
     "name": "stdout",
     "output_type": "stream",
     "text": [
      "CPU times: user 127 µs, sys: 0 ns, total: 127 µs\n",
      "Wall time: 131 µs\n"
     ]
    }
   ],
   "source": [
    "%%time\n",
    "pipeline_2 = Pipeline([\n",
    "    ('vectorizer', DictVectorizer()),\n",
    "    ('classifier', RandomForestClassifier(random_state=42))\n",
    "])\n",
    "\n",
    "params_2 = {\n",
    "    'classifier__n_estimators': [100, 200, 300],\n",
    "    'classifier__max_depth': [5, 10, 15, 20, 25],\n",
    "    'classifier__min_samples_split': [2, 4, 8, 16, 32],\n",
    "    'classifier__min_samples_leaf': [1, 10, 100],\n",
    "}\n",
    "\n",
    "search_2 = RandomizedSearchCV(\n",
    "    estimator = pipeline_2,\n",
    "    param_distributions = params_2,\n",
    "    n_iter = 5,\n",
    "    n_jobs = -1,\n",
    "    refit = True,\n",
    "    random_state = 42,\n",
    ")\n",
    "\n",
    "model_2 = ScikitClassifier(word2vec = w2v, search = search_2)"
   ]
  },
  {
   "cell_type": "code",
   "execution_count": 15,
   "metadata": {},
   "outputs": [
    {
     "name": "stdout",
     "output_type": "stream",
     "text": [
      "CPU times: user 243 ms, sys: 25.3 ms, total: 268 ms\n",
      "Wall time: 263 ms\n"
     ]
    }
   ],
   "source": [
    "%%time\n",
    "model_2.transform(train_df['iob_tokens'].sample(n=100, random_state=42))"
   ]
  },
  {
   "cell_type": "code",
   "execution_count": 16,
   "metadata": {},
   "outputs": [
    {
     "name": "stdout",
     "output_type": "stream",
     "text": [
      "CPU times: user 4min 35s, sys: 2.2 s, total: 4min 37s\n",
      "Wall time: 4min 40s\n"
     ]
    },
    {
     "data": {
      "text/plain": [
       "Pipeline(steps=[('vectorizer', DictVectorizer()),\n",
       "                ('classifier',\n",
       "                 RandomForestClassifier(max_depth=25, min_samples_split=4,\n",
       "                                        n_estimators=200, random_state=42))])"
      ]
     },
     "execution_count": 16,
     "metadata": {},
     "output_type": "execute_result"
    }
   ],
   "source": [
    "%%time\n",
    "model_2.fit()\n",
    "model_2.clf"
   ]
  },
  {
   "cell_type": "code",
   "execution_count": null,
   "metadata": {},
   "outputs": [],
   "source": [
    "model_2.save_model('../model/scikit_rf_iob_embed.joblib')"
   ]
  },
  {
   "cell_type": "code",
   "execution_count": null,
   "metadata": {},
   "outputs": [],
   "source": [
    "model_2.load_model('../model/scikit_rf_iob_embed.joblib')"
   ]
  },
  {
   "cell_type": "code",
   "execution_count": 18,
   "metadata": {},
   "outputs": [
    {
     "data": {
      "text/html": [
       "<div>\n",
       "<style scoped>\n",
       "    .dataframe tbody tr th:only-of-type {\n",
       "        vertical-align: middle;\n",
       "    }\n",
       "\n",
       "    .dataframe tbody tr th {\n",
       "        vertical-align: top;\n",
       "    }\n",
       "\n",
       "    .dataframe thead th {\n",
       "        text-align: right;\n",
       "    }\n",
       "</style>\n",
       "<table border=\"1\" class=\"dataframe\">\n",
       "  <thead>\n",
       "    <tr style=\"text-align: right;\">\n",
       "      <th></th>\n",
       "      <th>importance</th>\n",
       "    </tr>\n",
       "  </thead>\n",
       "  <tbody>\n",
       "    <tr>\n",
       "      <th>prev-iob=O</th>\n",
       "      <td>0.159476</td>\n",
       "    </tr>\n",
       "    <tr>\n",
       "      <th>prev-iob=B-STREET</th>\n",
       "      <td>0.074444</td>\n",
       "    </tr>\n",
       "    <tr>\n",
       "      <th>prev-iob=I-STREET</th>\n",
       "      <td>0.063746</td>\n",
       "    </tr>\n",
       "    <tr>\n",
       "      <th>prev-iob=B-POI</th>\n",
       "      <td>0.035949</td>\n",
       "    </tr>\n",
       "    <tr>\n",
       "      <th>prev-iob=I-POI</th>\n",
       "      <td>0.027495</td>\n",
       "    </tr>\n",
       "    <tr>\n",
       "      <th>shape=ending-dot</th>\n",
       "      <td>0.005048</td>\n",
       "    </tr>\n",
       "    <tr>\n",
       "      <th>word-vec-111</th>\n",
       "      <td>0.004106</td>\n",
       "    </tr>\n",
       "    <tr>\n",
       "      <th>prev-shape=ending-dot</th>\n",
       "      <td>0.003487</td>\n",
       "    </tr>\n",
       "    <tr>\n",
       "      <th>word-vec-264</th>\n",
       "      <td>0.003281</td>\n",
       "    </tr>\n",
       "    <tr>\n",
       "      <th>prev-shape=wildcard</th>\n",
       "      <td>0.003277</td>\n",
       "    </tr>\n",
       "    <tr>\n",
       "      <th>word-vec-77</th>\n",
       "      <td>0.003064</td>\n",
       "    </tr>\n",
       "    <tr>\n",
       "      <th>shape=wildcard</th>\n",
       "      <td>0.003041</td>\n",
       "    </tr>\n",
       "    <tr>\n",
       "      <th>word-vec-5</th>\n",
       "      <td>0.003026</td>\n",
       "    </tr>\n",
       "    <tr>\n",
       "      <th>next-shape=number</th>\n",
       "      <td>0.002992</td>\n",
       "    </tr>\n",
       "    <tr>\n",
       "      <th>next-shape=other</th>\n",
       "      <td>0.002969</td>\n",
       "    </tr>\n",
       "    <tr>\n",
       "      <th>word-vec-283</th>\n",
       "      <td>0.002658</td>\n",
       "    </tr>\n",
       "    <tr>\n",
       "      <th>word-vec-217</th>\n",
       "      <td>0.002612</td>\n",
       "    </tr>\n",
       "    <tr>\n",
       "      <th>is_first</th>\n",
       "      <td>0.002594</td>\n",
       "    </tr>\n",
       "    <tr>\n",
       "      <th>word-vec-166</th>\n",
       "      <td>0.002534</td>\n",
       "    </tr>\n",
       "    <tr>\n",
       "      <th>word-vec-109</th>\n",
       "      <td>0.002530</td>\n",
       "    </tr>\n",
       "    <tr>\n",
       "      <th>word-vec-115</th>\n",
       "      <td>0.002333</td>\n",
       "    </tr>\n",
       "    <tr>\n",
       "      <th>word-vec-295</th>\n",
       "      <td>0.002330</td>\n",
       "    </tr>\n",
       "    <tr>\n",
       "      <th>next-word-vec-94</th>\n",
       "      <td>0.002284</td>\n",
       "    </tr>\n",
       "    <tr>\n",
       "      <th>word-vec-38</th>\n",
       "      <td>0.002258</td>\n",
       "    </tr>\n",
       "    <tr>\n",
       "      <th>word-vec-88</th>\n",
       "      <td>0.002198</td>\n",
       "    </tr>\n",
       "    <tr>\n",
       "      <th>word-vec-58</th>\n",
       "      <td>0.002167</td>\n",
       "    </tr>\n",
       "    <tr>\n",
       "      <th>word-vec-137</th>\n",
       "      <td>0.002157</td>\n",
       "    </tr>\n",
       "    <tr>\n",
       "      <th>word-vec-138</th>\n",
       "      <td>0.002142</td>\n",
       "    </tr>\n",
       "    <tr>\n",
       "      <th>word-vec-247</th>\n",
       "      <td>0.002080</td>\n",
       "    </tr>\n",
       "    <tr>\n",
       "      <th>word-vec-80</th>\n",
       "      <td>0.002057</td>\n",
       "    </tr>\n",
       "    <tr>\n",
       "      <th>word-vec-206</th>\n",
       "      <td>0.002023</td>\n",
       "    </tr>\n",
       "    <tr>\n",
       "      <th>word-vec-117</th>\n",
       "      <td>0.001982</td>\n",
       "    </tr>\n",
       "    <tr>\n",
       "      <th>word-vec-108</th>\n",
       "      <td>0.001980</td>\n",
       "    </tr>\n",
       "    <tr>\n",
       "      <th>word-vec-251</th>\n",
       "      <td>0.001958</td>\n",
       "    </tr>\n",
       "    <tr>\n",
       "      <th>word-vec-204</th>\n",
       "      <td>0.001954</td>\n",
       "    </tr>\n",
       "    <tr>\n",
       "      <th>word-vec-112</th>\n",
       "      <td>0.001925</td>\n",
       "    </tr>\n",
       "    <tr>\n",
       "      <th>word-vec-26</th>\n",
       "      <td>0.001923</td>\n",
       "    </tr>\n",
       "    <tr>\n",
       "      <th>word-vec-146</th>\n",
       "      <td>0.001901</td>\n",
       "    </tr>\n",
       "    <tr>\n",
       "      <th>word-vec-16</th>\n",
       "      <td>0.001899</td>\n",
       "    </tr>\n",
       "    <tr>\n",
       "      <th>word-vec-220</th>\n",
       "      <td>0.001885</td>\n",
       "    </tr>\n",
       "  </tbody>\n",
       "</table>\n",
       "</div>"
      ],
      "text/plain": [
       "                       importance\n",
       "prev-iob=O               0.159476\n",
       "prev-iob=B-STREET        0.074444\n",
       "prev-iob=I-STREET        0.063746\n",
       "prev-iob=B-POI           0.035949\n",
       "prev-iob=I-POI           0.027495\n",
       "shape=ending-dot         0.005048\n",
       "word-vec-111             0.004106\n",
       "prev-shape=ending-dot    0.003487\n",
       "word-vec-264             0.003281\n",
       "prev-shape=wildcard      0.003277\n",
       "word-vec-77              0.003064\n",
       "shape=wildcard           0.003041\n",
       "word-vec-5               0.003026\n",
       "next-shape=number        0.002992\n",
       "next-shape=other         0.002969\n",
       "word-vec-283             0.002658\n",
       "word-vec-217             0.002612\n",
       "is_first                 0.002594\n",
       "word-vec-166             0.002534\n",
       "word-vec-109             0.002530\n",
       "word-vec-115             0.002333\n",
       "word-vec-295             0.002330\n",
       "next-word-vec-94         0.002284\n",
       "word-vec-38              0.002258\n",
       "word-vec-88              0.002198\n",
       "word-vec-58              0.002167\n",
       "word-vec-137             0.002157\n",
       "word-vec-138             0.002142\n",
       "word-vec-247             0.002080\n",
       "word-vec-80              0.002057\n",
       "word-vec-206             0.002023\n",
       "word-vec-117             0.001982\n",
       "word-vec-108             0.001980\n",
       "word-vec-251             0.001958\n",
       "word-vec-204             0.001954\n",
       "word-vec-112             0.001925\n",
       "word-vec-26              0.001923\n",
       "word-vec-146             0.001901\n",
       "word-vec-16              0.001899\n",
       "word-vec-220             0.001885"
      ]
     },
     "execution_count": 18,
     "metadata": {},
     "output_type": "execute_result"
    }
   ],
   "source": [
    "pd.DataFrame({\n",
    "    'importance': model_2.clf['classifier'].feature_importances_,\n",
    "}, index = model_2.clf['vectorizer'].feature_names_).sort_values('importance', ascending=False).head(10)"
   ]
  },
  {
   "cell_type": "code",
   "execution_count": 17,
   "metadata": {},
   "outputs": [
    {
     "name": "stdout",
     "output_type": "stream",
     "text": [
      "CPU times: user 17.4 s, sys: 1.46 s, total: 18.8 s\n",
      "Wall time: 22.1 s\n"
     ]
    },
    {
     "data": {
      "text/plain": [
       "0.12"
      ]
     },
     "execution_count": 17,
     "metadata": {},
     "output_type": "execute_result"
    }
   ],
   "source": [
    "%%time\n",
    "pred_df = valid_df.sample(n=100, random_state=42).copy()\n",
    "pred_df['pred_iob'] = model_2.parallelize_predict(pred_df['raw_tokens'])\n",
    "pred_df['pred_tagged'] = pred_df['pred_iob'].apply(iob_to_tagged)\n",
    "pred_df['pred_POI/street'] = pred_df['pred_tagged'].apply(tagged_to_poi_street)\n",
    "accuracy_score(y_true = pred_df['POI/street'], y_pred = pred_df['pred_POI/street'])"
   ]
  },
  {
   "cell_type": "code",
   "execution_count": null,
   "metadata": {},
   "outputs": [],
   "source": []
  }
 ],
 "metadata": {
  "kernelspec": {
   "display_name": "Python 3",
   "language": "python",
   "name": "python3"
  },
  "language_info": {
   "codemirror_mode": {
    "name": "ipython",
    "version": 3
   },
   "file_extension": ".py",
   "mimetype": "text/x-python",
   "name": "python",
   "nbconvert_exporter": "python",
   "pygments_lexer": "ipython3",
   "version": "3.7.6"
  }
 },
 "nbformat": 4,
 "nbformat_minor": 5
}
