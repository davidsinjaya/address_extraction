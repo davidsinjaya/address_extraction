{
 "cells": [
  {
   "cell_type": "markdown",
   "metadata": {},
   "source": [
    "# Packages"
   ]
  },
  {
   "cell_type": "code",
   "execution_count": 1,
   "metadata": {},
   "outputs": [],
   "source": [
    "import pandas as pd\n",
    "import sys"
   ]
  },
  {
   "cell_type": "code",
   "execution_count": 2,
   "metadata": {},
   "outputs": [],
   "source": [
    "from sklearn.metrics import accuracy_score\n",
    "from sklearn.model_selection import train_test_split\n",
    "\n",
    "from sklearn.tree import DecisionTreeClassifier\n",
    "from sklearn.feature_extraction import DictVectorizer\n",
    "from sklearn.pipeline import Pipeline"
   ]
  },
  {
   "cell_type": "code",
   "execution_count": 3,
   "metadata": {},
   "outputs": [],
   "source": [
    "%load_ext autoreload\n",
    "%autoreload 2\n",
    "\n",
    "sys.path.append('..')\n",
    "\n",
    "from src.data import raw_to_tokens, tokens_to_tagged, tagged_to_tokens, tagged_to_poi_street\n",
    "from src.models.nltk_approach import NltkApproach"
   ]
  },
  {
   "cell_type": "markdown",
   "metadata": {},
   "source": [
    "# Import Data"
   ]
  },
  {
   "cell_type": "code",
   "execution_count": 4,
   "metadata": {},
   "outputs": [],
   "source": [
    "df = pd.read_csv('../data/train.csv').set_index('id')\n",
    "df['poi'], df['street'] = zip(*df['POI/street'].str.split('/'))\n",
    "df['raw_tokens'] = df['raw_address'].apply(raw_to_tokens)\n",
    "df['poi_tokens'] = df['poi'].apply(raw_to_tokens)\n",
    "df['street_tokens'] = df['street'].apply(raw_to_tokens)\n",
    "df['tagged_tokens'] = df.apply(lambda r: tokens_to_tagged(r.raw_tokens, r.poi_tokens, r.street_tokens), axis=1)"
   ]
  },
  {
   "cell_type": "code",
   "execution_count": 5,
   "metadata": {},
   "outputs": [
    {
     "data": {
      "text/html": [
       "<div>\n",
       "<style scoped>\n",
       "    .dataframe tbody tr th:only-of-type {\n",
       "        vertical-align: middle;\n",
       "    }\n",
       "\n",
       "    .dataframe tbody tr th {\n",
       "        vertical-align: top;\n",
       "    }\n",
       "\n",
       "    .dataframe thead th {\n",
       "        text-align: right;\n",
       "    }\n",
       "</style>\n",
       "<table border=\"1\" class=\"dataframe\">\n",
       "  <thead>\n",
       "    <tr style=\"text-align: right;\">\n",
       "      <th></th>\n",
       "      <th>raw_address</th>\n",
       "      <th>POI/street</th>\n",
       "      <th>poi</th>\n",
       "      <th>street</th>\n",
       "      <th>raw_tokens</th>\n",
       "      <th>poi_tokens</th>\n",
       "      <th>street_tokens</th>\n",
       "      <th>tagged_tokens</th>\n",
       "    </tr>\n",
       "    <tr>\n",
       "      <th>id</th>\n",
       "      <th></th>\n",
       "      <th></th>\n",
       "      <th></th>\n",
       "      <th></th>\n",
       "      <th></th>\n",
       "      <th></th>\n",
       "      <th></th>\n",
       "      <th></th>\n",
       "    </tr>\n",
       "  </thead>\n",
       "  <tbody>\n",
       "    <tr>\n",
       "      <th>165863</th>\n",
       "      <td>sony sugema college, engku putri</td>\n",
       "      <td>sony sugema college/engku putri</td>\n",
       "      <td>sony sugema college</td>\n",
       "      <td>engku putri</td>\n",
       "      <td>[sony, sugema, college,, engku, putri]</td>\n",
       "      <td>[sony, sugema, college]</td>\n",
       "      <td>[engku, putri]</td>\n",
       "      <td>[(sony, POI), (sugema, POI), (college,, OTHER)...</td>\n",
       "    </tr>\n",
       "    <tr>\n",
       "      <th>6509</th>\n",
       "      <td>raya lungsi 14 kedewatan ubud</td>\n",
       "      <td>/</td>\n",
       "      <td></td>\n",
       "      <td></td>\n",
       "      <td>[raya, lungsi, 14, kedewatan, ubud]</td>\n",
       "      <td>[]</td>\n",
       "      <td>[]</td>\n",
       "      <td>[(raya, OTHER), (lungsi, OTHER), (14, OTHER), ...</td>\n",
       "    </tr>\n",
       "    <tr>\n",
       "      <th>259425</th>\n",
       "      <td>gg. subi 115 campurejo bojonegoro</td>\n",
       "      <td>/gg. subingan</td>\n",
       "      <td></td>\n",
       "      <td>gg. subingan</td>\n",
       "      <td>[gg., subi, 115, campurejo, bojonegoro]</td>\n",
       "      <td>[]</td>\n",
       "      <td>[gg., subingan]</td>\n",
       "      <td>[(gg., STREET), (subi, OTHER), (115, OTHER), (...</td>\n",
       "    </tr>\n",
       "    <tr>\n",
       "      <th>165928</th>\n",
       "      <td>kranji lapa bola 2 no 67-71 bekasi barat</td>\n",
       "      <td>/lapa bola 2</td>\n",
       "      <td></td>\n",
       "      <td>lapa bola 2</td>\n",
       "      <td>[kranji, lapa, bola, 2, no, 67-71, bekasi, barat]</td>\n",
       "      <td>[]</td>\n",
       "      <td>[lapa, bola, 2]</td>\n",
       "      <td>[(kranji, OTHER), (lapa, STREET), (bola, STREE...</td>\n",
       "    </tr>\n",
       "    <tr>\n",
       "      <th>10095</th>\n",
       "      <td>jati pad raya no 6h 4 12540</td>\n",
       "      <td>/jati pad raya</td>\n",
       "      <td></td>\n",
       "      <td>jati pad raya</td>\n",
       "      <td>[jati, pad, raya, no, 6h, 4, 12540]</td>\n",
       "      <td>[]</td>\n",
       "      <td>[jati, pad, raya]</td>\n",
       "      <td>[(jati, STREET), (pad, STREET), (raya, STREET)...</td>\n",
       "    </tr>\n",
       "    <tr>\n",
       "      <th>158403</th>\n",
       "      <td>raya kalima 3 haurkuning darma</td>\n",
       "      <td>/raya kalimalang</td>\n",
       "      <td></td>\n",
       "      <td>raya kalimalang</td>\n",
       "      <td>[raya, kalima, 3, haurkuning, darma]</td>\n",
       "      <td>[]</td>\n",
       "      <td>[raya, kalimalang]</td>\n",
       "      <td>[(raya, STREET), (kalima, OTHER), (3, OTHER), ...</td>\n",
       "    </tr>\n",
       "    <tr>\n",
       "      <th>4707</th>\n",
       "      <td>rangkapan jaya baru rd. suka 89 16434 pancoran...</td>\n",
       "      <td>/rd. suka</td>\n",
       "      <td></td>\n",
       "      <td>rd. suka</td>\n",
       "      <td>[rangkapan, jaya, baru, rd., suka, 89, 16434, ...</td>\n",
       "      <td>[]</td>\n",
       "      <td>[rd., suka]</td>\n",
       "      <td>[(rangkapan, OTHER), (jaya, OTHER), (baru, OTH...</td>\n",
       "    </tr>\n",
       "    <tr>\n",
       "      <th>168154</th>\n",
       "      <td>yasmina cassavina cakes, taman cima kedung war...</td>\n",
       "      <td>yasmina cassavina cakes/taman cima</td>\n",
       "      <td>yasmina cassavina cakes</td>\n",
       "      <td>taman cima</td>\n",
       "      <td>[yasmina, cassavina, cakes,, taman, cima, kedu...</td>\n",
       "      <td>[yasmina, cassavina, cakes]</td>\n",
       "      <td>[taman, cima]</td>\n",
       "      <td>[(yasmina, POI), (cassavina, POI), (cakes,, OT...</td>\n",
       "    </tr>\n",
       "    <tr>\n",
       "      <th>108948</th>\n",
       "      <td>poncokusumo poncokusumo - malang, poncokusumo</td>\n",
       "      <td>/</td>\n",
       "      <td></td>\n",
       "      <td></td>\n",
       "      <td>[poncokusumo, poncokusumo, -, malang,, poncoku...</td>\n",
       "      <td>[]</td>\n",
       "      <td>[]</td>\n",
       "      <td>[(poncokusumo, OTHER), (poncokusumo, OTHER), (...</td>\n",
       "    </tr>\n",
       "    <tr>\n",
       "      <th>108964</th>\n",
       "      <td>pamekaran teru sore - cipa 75 soreang</td>\n",
       "      <td>/</td>\n",
       "      <td></td>\n",
       "      <td></td>\n",
       "      <td>[pamekaran, teru, sore, -, cipa, 75, soreang]</td>\n",
       "      <td>[]</td>\n",
       "      <td>[]</td>\n",
       "      <td>[(pamekaran, OTHER), (teru, OTHER), (sore, OTH...</td>\n",
       "    </tr>\n",
       "  </tbody>\n",
       "</table>\n",
       "</div>"
      ],
      "text/plain": [
       "                                              raw_address  \\\n",
       "id                                                          \n",
       "165863                   sony sugema college, engku putri   \n",
       "6509                        raya lungsi 14 kedewatan ubud   \n",
       "259425                  gg. subi 115 campurejo bojonegoro   \n",
       "165928           kranji lapa bola 2 no 67-71 bekasi barat   \n",
       "10095                         jati pad raya no 6h 4 12540   \n",
       "158403                     raya kalima 3 haurkuning darma   \n",
       "4707    rangkapan jaya baru rd. suka 89 16434 pancoran...   \n",
       "168154  yasmina cassavina cakes, taman cima kedung war...   \n",
       "108948      poncokusumo poncokusumo - malang, poncokusumo   \n",
       "108964              pamekaran teru sore - cipa 75 soreang   \n",
       "\n",
       "                                POI/street                      poi  \\\n",
       "id                                                                    \n",
       "165863     sony sugema college/engku putri      sony sugema college   \n",
       "6509                                     /                            \n",
       "259425                       /gg. subingan                            \n",
       "165928                        /lapa bola 2                            \n",
       "10095                       /jati pad raya                            \n",
       "158403                    /raya kalimalang                            \n",
       "4707                             /rd. suka                            \n",
       "168154  yasmina cassavina cakes/taman cima  yasmina cassavina cakes   \n",
       "108948                                   /                            \n",
       "108964                                   /                            \n",
       "\n",
       "                 street                                         raw_tokens  \\\n",
       "id                                                                           \n",
       "165863      engku putri             [sony, sugema, college,, engku, putri]   \n",
       "6509                                   [raya, lungsi, 14, kedewatan, ubud]   \n",
       "259425     gg. subingan            [gg., subi, 115, campurejo, bojonegoro]   \n",
       "165928      lapa bola 2  [kranji, lapa, bola, 2, no, 67-71, bekasi, barat]   \n",
       "10095     jati pad raya                [jati, pad, raya, no, 6h, 4, 12540]   \n",
       "158403  raya kalimalang               [raya, kalima, 3, haurkuning, darma]   \n",
       "4707           rd. suka  [rangkapan, jaya, baru, rd., suka, 89, 16434, ...   \n",
       "168154       taman cima  [yasmina, cassavina, cakes,, taman, cima, kedu...   \n",
       "108948                   [poncokusumo, poncokusumo, -, malang,, poncoku...   \n",
       "108964                       [pamekaran, teru, sore, -, cipa, 75, soreang]   \n",
       "\n",
       "                         poi_tokens       street_tokens  \\\n",
       "id                                                        \n",
       "165863      [sony, sugema, college]      [engku, putri]   \n",
       "6509                             []                  []   \n",
       "259425                           []     [gg., subingan]   \n",
       "165928                           []     [lapa, bola, 2]   \n",
       "10095                            []   [jati, pad, raya]   \n",
       "158403                           []  [raya, kalimalang]   \n",
       "4707                             []         [rd., suka]   \n",
       "168154  [yasmina, cassavina, cakes]       [taman, cima]   \n",
       "108948                           []                  []   \n",
       "108964                           []                  []   \n",
       "\n",
       "                                            tagged_tokens  \n",
       "id                                                         \n",
       "165863  [(sony, POI), (sugema, POI), (college,, OTHER)...  \n",
       "6509    [(raya, OTHER), (lungsi, OTHER), (14, OTHER), ...  \n",
       "259425  [(gg., STREET), (subi, OTHER), (115, OTHER), (...  \n",
       "165928  [(kranji, OTHER), (lapa, STREET), (bola, STREE...  \n",
       "10095   [(jati, STREET), (pad, STREET), (raya, STREET)...  \n",
       "158403  [(raya, STREET), (kalima, OTHER), (3, OTHER), ...  \n",
       "4707    [(rangkapan, OTHER), (jaya, OTHER), (baru, OTH...  \n",
       "168154  [(yasmina, POI), (cassavina, POI), (cakes,, OT...  \n",
       "108948  [(poncokusumo, OTHER), (poncokusumo, OTHER), (...  \n",
       "108964  [(pamekaran, OTHER), (teru, OTHER), (sore, OTH...  "
      ]
     },
     "execution_count": 5,
     "metadata": {},
     "output_type": "execute_result"
    }
   ],
   "source": [
    "df.sample(n=10)"
   ]
  },
  {
   "cell_type": "markdown",
   "metadata": {},
   "source": [
    "# Train-Valid Split"
   ]
  },
  {
   "cell_type": "code",
   "execution_count": 6,
   "metadata": {},
   "outputs": [
    {
     "data": {
      "text/plain": [
       "((240000, 8), (60000, 8))"
      ]
     },
     "execution_count": 6,
     "metadata": {},
     "output_type": "execute_result"
    }
   ],
   "source": [
    "train_df, valid_df = train_test_split(df, test_size=0.2, random_state=42)\n",
    "train_df.shape, valid_df.shape"
   ]
  },
  {
   "cell_type": "markdown",
   "metadata": {},
   "source": [
    "# Train "
   ]
  },
  {
   "cell_type": "code",
   "execution_count": 7,
   "metadata": {},
   "outputs": [],
   "source": [
    "mdl = NltkApproach()"
   ]
  },
  {
   "cell_type": "code",
   "execution_count": 9,
   "metadata": {},
   "outputs": [],
   "source": [
    "mdl.transform(train_df['tagged_tokens'].sample(n=10000, random_state=42))"
   ]
  },
  {
   "cell_type": "code",
   "execution_count": 10,
   "metadata": {},
   "outputs": [],
   "source": [
    "mdl.fit()"
   ]
  },
  {
   "cell_type": "markdown",
   "metadata": {},
   "source": [
    "# Evaluate"
   ]
  },
  {
   "cell_type": "code",
   "execution_count": 12,
   "metadata": {},
   "outputs": [],
   "source": [
    "pred_df = valid_df.copy()\n",
    "pred_df['pred_tagged'] = mdl.predict(pred_df['raw_tokens'])\n",
    "pred_df['pred_POI/street'] = pred_df['pred_tagged'].apply(tagged_to_poi_street)"
   ]
  },
  {
   "cell_type": "code",
   "execution_count": 22,
   "metadata": {},
   "outputs": [
    {
     "data": {
      "text/html": [
       "<div>\n",
       "<style scoped>\n",
       "    .dataframe tbody tr th:only-of-type {\n",
       "        vertical-align: middle;\n",
       "    }\n",
       "\n",
       "    .dataframe tbody tr th {\n",
       "        vertical-align: top;\n",
       "    }\n",
       "\n",
       "    .dataframe thead th {\n",
       "        text-align: right;\n",
       "    }\n",
       "</style>\n",
       "<table border=\"1\" class=\"dataframe\">\n",
       "  <thead>\n",
       "    <tr style=\"text-align: right;\">\n",
       "      <th></th>\n",
       "      <th>raw_address</th>\n",
       "      <th>POI/street</th>\n",
       "      <th>pred_POI/street</th>\n",
       "    </tr>\n",
       "    <tr>\n",
       "      <th>id</th>\n",
       "      <th></th>\n",
       "      <th></th>\n",
       "      <th></th>\n",
       "    </tr>\n",
       "  </thead>\n",
       "  <tbody>\n",
       "    <tr>\n",
       "      <th>200309</th>\n",
       "      <td>alfa r406 andi kam merd, salekoe</td>\n",
       "      <td>alfamrt r406 andi kam/merd</td>\n",
       "      <td>alfa/kam</td>\n",
       "    </tr>\n",
       "    <tr>\n",
       "      <th>202262</th>\n",
       "      <td>pon indah vii cireundeu rt 4 2 ciputat timur</td>\n",
       "      <td>/pon indah vii</td>\n",
       "      <td>/vii</td>\n",
       "    </tr>\n",
       "    <tr>\n",
       "      <th>26253</th>\n",
       "      <td>tk pgri karang, kalidawir</td>\n",
       "      <td>tk pgri karangtalun/</td>\n",
       "      <td>tk karang,/</td>\n",
       "    </tr>\n",
       "    <tr>\n",
       "      <th>240811</th>\n",
       "      <td>jl. raya lembang km 12,3 no.35 (rm. saung peng...</td>\n",
       "      <td>saung pengkolan 1/jl. raya lembang</td>\n",
       "      <td>lembang/jl. raya</td>\n",
       "    </tr>\n",
       "    <tr>\n",
       "      <th>171332</th>\n",
       "      <td>kalib, 5 kalibagor kalibagor</td>\n",
       "      <td>/kalib</td>\n",
       "      <td>/kalib,</td>\n",
       "    </tr>\n",
       "  </tbody>\n",
       "</table>\n",
       "</div>"
      ],
      "text/plain": [
       "                                              raw_address  \\\n",
       "id                                                          \n",
       "200309                   alfa r406 andi kam merd, salekoe   \n",
       "202262       pon indah vii cireundeu rt 4 2 ciputat timur   \n",
       "26253                           tk pgri karang, kalidawir   \n",
       "240811  jl. raya lembang km 12,3 no.35 (rm. saung peng...   \n",
       "171332                       kalib, 5 kalibagor kalibagor   \n",
       "\n",
       "                                POI/street   pred_POI/street  \n",
       "id                                                            \n",
       "200309          alfamrt r406 andi kam/merd          alfa/kam  \n",
       "202262                      /pon indah vii              /vii  \n",
       "26253                 tk pgri karangtalun/       tk karang,/  \n",
       "240811  saung pengkolan 1/jl. raya lembang  lembang/jl. raya  \n",
       "171332                              /kalib           /kalib,  "
      ]
     },
     "execution_count": 22,
     "metadata": {},
     "output_type": "execute_result"
    }
   ],
   "source": [
    "pred_df[['raw_address', 'POI/street', 'pred_POI/street']].sample(n=5)"
   ]
  },
  {
   "cell_type": "code",
   "execution_count": 15,
   "metadata": {},
   "outputs": [
    {
     "data": {
      "text/plain": [
       "0.14806666666666668"
      ]
     },
     "execution_count": 15,
     "metadata": {},
     "output_type": "execute_result"
    }
   ],
   "source": [
    "accuracy_score(y_true = pred_df['POI/street'], y_pred = pred_df['pred_POI/street'])"
   ]
  },
  {
   "cell_type": "code",
   "execution_count": 21,
   "metadata": {},
   "outputs": [
    {
     "data": {
      "text/html": [
       "<div>\n",
       "<style scoped>\n",
       "    .dataframe tbody tr th:only-of-type {\n",
       "        vertical-align: middle;\n",
       "    }\n",
       "\n",
       "    .dataframe tbody tr th {\n",
       "        vertical-align: top;\n",
       "    }\n",
       "\n",
       "    .dataframe thead th {\n",
       "        text-align: right;\n",
       "    }\n",
       "</style>\n",
       "<table border=\"1\" class=\"dataframe\">\n",
       "  <thead>\n",
       "    <tr style=\"text-align: right;\">\n",
       "      <th></th>\n",
       "      <th>raw_address</th>\n",
       "      <th>POI/street</th>\n",
       "      <th>pred_POI/street</th>\n",
       "    </tr>\n",
       "    <tr>\n",
       "      <th>id</th>\n",
       "      <th></th>\n",
       "      <th></th>\n",
       "      <th></th>\n",
       "    </tr>\n",
       "  </thead>\n",
       "  <tbody>\n",
       "    <tr>\n",
       "      <th>216903</th>\n",
       "      <td>lon bawah 10 rt 4 12 kebon melati tanah abang</td>\n",
       "      <td>/lon bawah</td>\n",
       "      <td>/lon bawah</td>\n",
       "    </tr>\n",
       "    <tr>\n",
       "      <th>25048</th>\n",
       "      <td>dokter subagio cemp karangmanyar</td>\n",
       "      <td>dokter subagio/cemp</td>\n",
       "      <td>dokter subagio/cemp</td>\n",
       "    </tr>\n",
       "    <tr>\n",
       "      <th>80906</th>\n",
       "      <td>pem 76 klaten</td>\n",
       "      <td>/pem</td>\n",
       "      <td>/pem</td>\n",
       "    </tr>\n",
       "    <tr>\n",
       "      <th>244873</th>\n",
       "      <td>pem 79 selat dalam</td>\n",
       "      <td>/pem</td>\n",
       "      <td>/pem</td>\n",
       "    </tr>\n",
       "    <tr>\n",
       "      <th>43356</th>\n",
       "      <td>amplas gg. mel 20371 percut sei tuan</td>\n",
       "      <td>/gg. mel</td>\n",
       "      <td>/gg. mel</td>\n",
       "    </tr>\n",
       "  </tbody>\n",
       "</table>\n",
       "</div>"
      ],
      "text/plain": [
       "                                          raw_address           POI/street  \\\n",
       "id                                                                           \n",
       "216903  lon bawah 10 rt 4 12 kebon melati tanah abang           /lon bawah   \n",
       "25048                dokter subagio cemp karangmanyar  dokter subagio/cemp   \n",
       "80906                                   pem 76 klaten                 /pem   \n",
       "244873                             pem 79 selat dalam                 /pem   \n",
       "43356            amplas gg. mel 20371 percut sei tuan             /gg. mel   \n",
       "\n",
       "            pred_POI/street  \n",
       "id                           \n",
       "216903           /lon bawah  \n",
       "25048   dokter subagio/cemp  \n",
       "80906                  /pem  \n",
       "244873                 /pem  \n",
       "43356              /gg. mel  "
      ]
     },
     "execution_count": 21,
     "metadata": {},
     "output_type": "execute_result"
    }
   ],
   "source": [
    "pred_df[pred_df['POI/street'] == pred_df['pred_POI/street']][['raw_address', 'POI/street', 'pred_POI/street']].sample(n=5)"
   ]
  },
  {
   "cell_type": "code",
   "execution_count": null,
   "metadata": {},
   "outputs": [],
   "source": []
  }
 ],
 "metadata": {
  "kernelspec": {
   "display_name": "Python 3",
   "language": "python",
   "name": "python3"
  },
  "language_info": {
   "codemirror_mode": {
    "name": "ipython",
    "version": 3
   },
   "file_extension": ".py",
   "mimetype": "text/x-python",
   "name": "python",
   "nbconvert_exporter": "python",
   "pygments_lexer": "ipython3",
   "version": "3.7.6"
  }
 },
 "nbformat": 4,
 "nbformat_minor": 4
}
